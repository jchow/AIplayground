{
 "cells": [
  {
   "cell_type": "markdown",
   "metadata": {},
   "source": [
    "# Model evaluation \n",
    "### A systematic way of evaluating different models\n",
    "### Introduction to some common metrics"
   ]
  },
  {
   "cell_type": "code",
   "execution_count": 4,
   "metadata": {
    "collapsed": true
   },
   "outputs": [],
   "source": [
    "# Set up utility functions for model evaluation\n",
    "\n",
    "import pandas as pd\n",
    "import numpy as np\n",
    "from sklearn import preprocessing\n",
    "from sklearn import model_selection\n"
   ]
  },
  {
   "cell_type": "code",
   "execution_count": 5,
   "metadata": {
    "collapsed": true
   },
   "outputs": [],
   "source": [
    "# Preprocess the data (credit card transaction - detect fraud)\n",
    "\n",
    "def get_train_test_data():\n",
    "    df = pd.read_csv('C:/dev/research/temp/handson-unsupervised-learning/datasets/credit_card_data/credit_card.csv',  header=0, index_col=0)\n",
    "    dataX = df.copy().drop(['Class'], axis=1)\n",
    "    dataY = df['Class'].copy()\n",
    "\n",
    "    # We need to standardize the featurs - mean 0 and std 1\n",
    "    features = dataX.columns\n",
    "    ss = preprocessing.StandardScaler()\n",
    "    dataX.loc[:, features] = ss.fit_transform(dataX[features])\n",
    "    \n",
    "    X_train, X_test, y_train, y_test = model_selection.train_test_split(dataX, dataY, test_size=0.33, random_state=2018, stratify=dataY)\n",
    "    return X_train, X_test, y_train, y_test\n"
   ]
  },
  {
   "cell_type": "code",
   "execution_count": 6,
   "metadata": {
    "collapsed": true
   },
   "outputs": [],
   "source": [
    "# Metrics to evaluate model performance\n",
    "# 1. CV Log loss\n",
    "# 2. Precision Recall Average\n",
    "# 3. ROC AUC\n",
    "\n",
    "from sklearn.metrics import average_precision_score\n",
    "from sklearn.metrics import precision_recall_curve\n",
    "from sklearn.metrics import roc_auc_score\n",
    "from sklearn.metrics import roc_curve\n",
    "from sklearn.metrics import log_loss\n",
    "from sklearn import model_selection\n",
    "from sklearn.model_selection import StratifiedKFold\n",
    "import matplotlib.pyplot as plt\n",
    "\n",
    "def get_evaluation_report(model, X_train, X_test, y_train, y_test):\n",
    "    \n",
    "    # train model\n",
    "    model.fit(X_train, y_train)\n",
    "    \n",
    "    # precision recall\n",
    "    precision, recall, average_precision = find_precision_recall(X_test, y_test, model)\n",
    "    \n",
    "    # ROC \n",
    "    fpr, tpr, roc_area = find_roc_data(X_test, y_test, model)\n",
    "    \n",
    "    # Logloss on CV folds\n",
    "    splits = 10\n",
    "    loss_train_avg, loss_train_std, loss_test_avg, loss_test_std = find_cv_log_loss(X_train, y_train, model, splits)\n",
    "    \n",
    "    print(\"**** Performance report ****\")\n",
    "    # print(\"Features importance: \" % model.feature_importances_) << only for forest\n",
    "    \n",
    "    print(\"** Precision Recall **\")\n",
    "    plot_precision_recall_curve(precision, recall, average_precision)\n",
    "    \n",
    "    print(\"** ROC **\")\n",
    "    plot_roc_curve(fpr, tpr, roc_area)\n",
    "    \n",
    "    print(\"** Log loss **\")\n",
    "    print(\"CV Training data Logloss %.5f%% (%.5f%%) on %3d splits\" % (loss_train_avg*100, loss_train_std*100, splits))\n",
    "    print(\"CV Test data Logloss %.5f%% (%.5f%%) on %3d splits\" % (loss_test_avg*100, loss_test_std*100, splits))\n",
    "    \n",
    "    print(\"Test data Logloss: \", find_log_loss(X_test, y_test, model))\n",
    "    \n",
    "def find_log_loss(X_data, y_data, model):\n",
    "    y_proba = model.predict_proba(X_data)\n",
    "    return log_loss(y_data, y_proba[:,1])\n",
    "    \n",
    "def find_cv_log_loss(X_data, y_data, model, splits=10):\n",
    "    # We will do a CV to get the average training log loss \n",
    "    logloss_train_list = []\n",
    "    logloss_test_list = []\n",
    "    \n",
    "    seed = 2018\n",
    "    kfold = model_selection.StratifiedKFold(n_splits=splits, random_state=seed)\n",
    "    for train_index, test_index in kfold.split(X_data, y_data.ravel()):\n",
    "        X_train_fold, X_test_fold = X_data.iloc[train_index,:], X_data.iloc[test_index,:]\n",
    "        y_train_fold, y_test_fold = y_data.iloc[train_index], y_data.iloc[test_index]\n",
    "        model.fit(X_train_fold, y_train_fold)\n",
    "        logloss_train_list.append(find_log_loss(X_train_fold, y_train_fold, model))\n",
    "        logloss_test_list.append(find_log_loss(X_test_fold, y_test_fold, model))\n",
    "        \n",
    "    return np.mean(logloss_train_list), np.std(logloss_train_list), np.mean(logloss_test_list), np.std(logloss_test_list)\n",
    "    \n",
    "def find_precision_recall(X_data, y_data, model):\n",
    "    y_proba = model.predict_proba(X_data)\n",
    "    precision, recall, thresholds = precision_recall_curve(y_data.values, y_proba[:,1])\n",
    "    average_precision = average_precision_score(y_data.values, y_proba[:,1])\n",
    "    return precision, recall, average_precision\n",
    "\n",
    "def find_roc_data(X_data, y_data, model):\n",
    "    y_proba = model.predict_proba(X_data)\n",
    "    fpr, tpr, thresholds = roc_curve(y_data.values, y_proba[:,1])\n",
    "    roc_area = roc_auc_score(y_data.values, y_proba[:,1])\n",
    "    return fpr, tpr, roc_area\n",
    "\n",
    "def plot_precision_recall_curve(precision, recall, average_precision):\n",
    "    plt.step(recall, precision, color='k', alpha=0.7, where='post')\n",
    "    plt.fill_between(recall, precision, step='post', alpha=0.3, color='k')\n",
    "\n",
    "    plt.xlabel('Recall')\n",
    "    plt.ylabel('Precision')\n",
    "    plt.ylim([0.0, 1.05])\n",
    "    plt.xlim([0.0, 1.0])\n",
    "\n",
    "    plt.title('2-class Precision-Recall curve: AP={0:0.2f}'.format(average_precision))\n",
    "    plt.show()\n",
    "    \n",
    "def plot_roc_curve(fpr, tpr, roc_area):\n",
    "    plt.figure()\n",
    "    lw = 2\n",
    "    plt.plot(fpr, tpr, color='darkorange',lw=lw, label='ROC curve (area = %0.2f)' % roc_area)\n",
    "    plt.plot([0, 1], [0, 1], color='navy', lw=lw, linestyle='--')\n",
    "    plt.xlim([0.0, 1.0])\n",
    "    plt.ylim([0.0, 1.05])\n",
    "    plt.xlabel('False Positive Rate')\n",
    "    plt.ylabel('True Positive Rate')\n",
    "    plt.title('Receiver operating characteristic example')\n",
    "    plt.legend(loc=\"lower right\")\n",
    "    plt.show()"
   ]
  },
  {
   "cell_type": "markdown",
   "metadata": {
    "collapsed": true
   },
   "source": [
    "### Let's test a few classifiers"
   ]
  },
  {
   "cell_type": "code",
   "execution_count": 7,
   "metadata": {
    "collapsed": false
   },
   "outputs": [],
   "source": [
    "# This step is time consuming, shall be ran once to save time\n",
    "X_train, X_test, y_train, y_test = get_train_test_data()"
   ]
  },
  {
   "cell_type": "code",
   "execution_count": 6,
   "metadata": {
    "collapsed": false
   },
   "outputs": [
    {
     "name": "stdout",
     "output_type": "stream",
     "text": [
      "**** Performance report ****\n",
      "** Precision Recall **\n"
     ]
    },
    {
     "data": {
      "image/png": "[encoded data removed]",
      "text/plain": [
       "<matplotlib.figure.Figure at 0x2bd8015a6a0>"
      ]
     },
     "metadata": {},
     "output_type": "display_data"
    },
    {
     "name": "stdout",
     "output_type": "stream",
     "text": [
      "** ROC **\n"
     ]
    },
    {
     "data": {
      "image/png": "[encoded data removed]",
      "text/plain": [
       "<matplotlib.figure.Figure at 0x2bd80081dd8>"
      ]
     },
     "metadata": {},
     "output_type": "display_data"
    },
    {
     "name": "stdout",
     "output_type": "stream",
     "text": [
      "** Log loss **\n",
      "CV Training data Logloss 0.04539% (0.00153%) on  10 splits\n",
      "CV Test data Logloss 1.09215% (0.38425%) on  10 splits\n",
      "Test data Logloss:  0.00997419995447\n"
     ]
    }
   ],
   "source": [
    "## Random forest\n",
    "\n",
    "from sklearn.ensemble import RandomForestClassifier\n",
    "\n",
    "# start with mostly default parameters\n",
    "model = RandomForestClassifier(n_estimators=8)\n",
    "\n",
    "# get performance report\n",
    "get_evaluation_report(model, X_train, X_test, y_train, y_test)\n"
   ]
  },
  {
   "cell_type": "code",
   "execution_count": 1,
   "metadata": {
    "collapsed": true
   },
   "outputs": [],
   "source": [
    "## XGBoost\n",
    "import xgboost as xgb\n",
    "\n",
    "## LightGBM\n",
    "import lightgbm as lgb"
   ]
  },
  {
   "cell_type": "code",
   "execution_count": 8,
   "metadata": {
    "collapsed": false
   },
   "outputs": [
    {
     "name": "stdout",
     "output_type": "stream",
     "text": [
      "[0]\ttrain-logloss:0.43794+2.41959e-05\ttest-logloss:0.43805+8.80668e-05\n",
      "[100]\ttrain-logloss:5.56e-05+1.49666e-06\ttest-logloss:0.0033626+0.000758129\n",
      "[200]\ttrain-logloss:3.3e-05+8.94427e-07\ttest-logloss:0.0035368+0.000817394\n"
     ]
    }
   ],
   "source": [
    "dtrain = xgb.DMatrix(data=X_train, label=y_train)\n",
    "dtest = xgb.DMatrix(data=X_test, label=y_test)\n",
    "\n",
    "params = {'objective':'binary:logistic',\n",
    "    'num_class':1,\n",
    "    'eval_metric':'logloss',\n",
    "    'silent':1}\n",
    "\n",
    "cv_history = xgb.cv(params, dtrain, num_boost_round=2000, nfold=5, early_stopping_rounds=200, verbose_eval=100, stratified=True)"
   ]
  },
  {
   "cell_type": "code",
   "execution_count": 15,
   "metadata": {
    "collapsed": false
   },
   "outputs": [
    {
     "data": {
      "text/html": [
       "<div>\n",
       "<style>\n",
       "    .dataframe thead tr:only-child th {\n",
       "        text-align: right;\n",
       "    }\n",
       "\n",
       "    .dataframe thead th {\n",
       "        text-align: left;\n",
       "    }\n",
       "\n",
       "    .dataframe tbody tr th {\n",
       "        vertical-align: top;\n",
       "    }\n",
       "</style>\n",
       "<table border=\"1\" class=\"dataframe\">\n",
       "  <thead>\n",
       "    <tr style=\"text-align: right;\">\n",
       "      <th></th>\n",
       "      <th>test-logloss-mean</th>\n",
       "      <th>test-logloss-std</th>\n",
       "      <th>train-logloss-mean</th>\n",
       "      <th>train-logloss-std</th>\n",
       "    </tr>\n",
       "  </thead>\n",
       "  <tbody>\n",
       "    <tr>\n",
       "      <th>0</th>\n",
       "      <td>0.438050</td>\n",
       "      <td>0.000088</td>\n",
       "      <td>0.437940</td>\n",
       "      <td>0.000024</td>\n",
       "    </tr>\n",
       "    <tr>\n",
       "      <th>1</th>\n",
       "      <td>0.297152</td>\n",
       "      <td>0.000104</td>\n",
       "      <td>0.296980</td>\n",
       "      <td>0.000020</td>\n",
       "    </tr>\n",
       "    <tr>\n",
       "      <th>2</th>\n",
       "      <td>0.208396</td>\n",
       "      <td>0.000123</td>\n",
       "      <td>0.208168</td>\n",
       "      <td>0.000028</td>\n",
       "    </tr>\n",
       "    <tr>\n",
       "      <th>3</th>\n",
       "      <td>0.149040</td>\n",
       "      <td>0.000129</td>\n",
       "      <td>0.148754</td>\n",
       "      <td>0.000037</td>\n",
       "    </tr>\n",
       "    <tr>\n",
       "      <th>4</th>\n",
       "      <td>0.107985</td>\n",
       "      <td>0.000133</td>\n",
       "      <td>0.107661</td>\n",
       "      <td>0.000043</td>\n",
       "    </tr>\n",
       "    <tr>\n",
       "      <th>5</th>\n",
       "      <td>0.079003</td>\n",
       "      <td>0.000161</td>\n",
       "      <td>0.078640</td>\n",
       "      <td>0.000048</td>\n",
       "    </tr>\n",
       "    <tr>\n",
       "      <th>6</th>\n",
       "      <td>0.058260</td>\n",
       "      <td>0.000182</td>\n",
       "      <td>0.057859</td>\n",
       "      <td>0.000052</td>\n",
       "    </tr>\n",
       "    <tr>\n",
       "      <th>7</th>\n",
       "      <td>0.043277</td>\n",
       "      <td>0.000200</td>\n",
       "      <td>0.042845</td>\n",
       "      <td>0.000054</td>\n",
       "    </tr>\n",
       "    <tr>\n",
       "      <th>8</th>\n",
       "      <td>0.032381</td>\n",
       "      <td>0.000219</td>\n",
       "      <td>0.031910</td>\n",
       "      <td>0.000056</td>\n",
       "    </tr>\n",
       "    <tr>\n",
       "      <th>9</th>\n",
       "      <td>0.024423</td>\n",
       "      <td>0.000245</td>\n",
       "      <td>0.023907</td>\n",
       "      <td>0.000053</td>\n",
       "    </tr>\n",
       "    <tr>\n",
       "      <th>10</th>\n",
       "      <td>0.018592</td>\n",
       "      <td>0.000276</td>\n",
       "      <td>0.018028</td>\n",
       "      <td>0.000065</td>\n",
       "    </tr>\n",
       "    <tr>\n",
       "      <th>11</th>\n",
       "      <td>0.014332</td>\n",
       "      <td>0.000292</td>\n",
       "      <td>0.013701</td>\n",
       "      <td>0.000071</td>\n",
       "    </tr>\n",
       "    <tr>\n",
       "      <th>12</th>\n",
       "      <td>0.011202</td>\n",
       "      <td>0.000325</td>\n",
       "      <td>0.010504</td>\n",
       "      <td>0.000076</td>\n",
       "    </tr>\n",
       "    <tr>\n",
       "      <th>13</th>\n",
       "      <td>0.008914</td>\n",
       "      <td>0.000345</td>\n",
       "      <td>0.008134</td>\n",
       "      <td>0.000079</td>\n",
       "    </tr>\n",
       "    <tr>\n",
       "      <th>14</th>\n",
       "      <td>0.007247</td>\n",
       "      <td>0.000358</td>\n",
       "      <td>0.006383</td>\n",
       "      <td>0.000085</td>\n",
       "    </tr>\n",
       "    <tr>\n",
       "      <th>15</th>\n",
       "      <td>0.006014</td>\n",
       "      <td>0.000371</td>\n",
       "      <td>0.005059</td>\n",
       "      <td>0.000094</td>\n",
       "    </tr>\n",
       "    <tr>\n",
       "      <th>16</th>\n",
       "      <td>0.005125</td>\n",
       "      <td>0.000382</td>\n",
       "      <td>0.004057</td>\n",
       "      <td>0.000091</td>\n",
       "    </tr>\n",
       "    <tr>\n",
       "      <th>17</th>\n",
       "      <td>0.004469</td>\n",
       "      <td>0.000397</td>\n",
       "      <td>0.003307</td>\n",
       "      <td>0.000095</td>\n",
       "    </tr>\n",
       "    <tr>\n",
       "      <th>18</th>\n",
       "      <td>0.003995</td>\n",
       "      <td>0.000409</td>\n",
       "      <td>0.002727</td>\n",
       "      <td>0.000100</td>\n",
       "    </tr>\n",
       "    <tr>\n",
       "      <th>19</th>\n",
       "      <td>0.003643</td>\n",
       "      <td>0.000415</td>\n",
       "      <td>0.002282</td>\n",
       "      <td>0.000095</td>\n",
       "    </tr>\n",
       "    <tr>\n",
       "      <th>20</th>\n",
       "      <td>0.003389</td>\n",
       "      <td>0.000419</td>\n",
       "      <td>0.001939</td>\n",
       "      <td>0.000098</td>\n",
       "    </tr>\n",
       "    <tr>\n",
       "      <th>21</th>\n",
       "      <td>0.003195</td>\n",
       "      <td>0.000439</td>\n",
       "      <td>0.001680</td>\n",
       "      <td>0.000103</td>\n",
       "    </tr>\n",
       "    <tr>\n",
       "      <th>22</th>\n",
       "      <td>0.003064</td>\n",
       "      <td>0.000457</td>\n",
       "      <td>0.001479</td>\n",
       "      <td>0.000103</td>\n",
       "    </tr>\n",
       "    <tr>\n",
       "      <th>23</th>\n",
       "      <td>0.002986</td>\n",
       "      <td>0.000476</td>\n",
       "      <td>0.001313</td>\n",
       "      <td>0.000106</td>\n",
       "    </tr>\n",
       "    <tr>\n",
       "      <th>24</th>\n",
       "      <td>0.002929</td>\n",
       "      <td>0.000504</td>\n",
       "      <td>0.001172</td>\n",
       "      <td>0.000100</td>\n",
       "    </tr>\n",
       "    <tr>\n",
       "      <th>25</th>\n",
       "      <td>0.002912</td>\n",
       "      <td>0.000527</td>\n",
       "      <td>0.001047</td>\n",
       "      <td>0.000084</td>\n",
       "    </tr>\n",
       "    <tr>\n",
       "      <th>26</th>\n",
       "      <td>0.002903</td>\n",
       "      <td>0.000540</td>\n",
       "      <td>0.000955</td>\n",
       "      <td>0.000076</td>\n",
       "    </tr>\n",
       "    <tr>\n",
       "      <th>27</th>\n",
       "      <td>0.002887</td>\n",
       "      <td>0.000554</td>\n",
       "      <td>0.000855</td>\n",
       "      <td>0.000070</td>\n",
       "    </tr>\n",
       "    <tr>\n",
       "      <th>28</th>\n",
       "      <td>0.002884</td>\n",
       "      <td>0.000573</td>\n",
       "      <td>0.000773</td>\n",
       "      <td>0.000062</td>\n",
       "    </tr>\n",
       "    <tr>\n",
       "      <th>29</th>\n",
       "      <td>0.002868</td>\n",
       "      <td>0.000571</td>\n",
       "      <td>0.000704</td>\n",
       "      <td>0.000045</td>\n",
       "    </tr>\n",
       "  </tbody>\n",
       "</table>\n",
       "</div>"
      ],
      "text/plain": [
       "    test-logloss-mean  test-logloss-std  train-logloss-mean  train-logloss-std\n",
       "0            0.438050          0.000088            0.437940           0.000024\n",
       "1            0.297152          0.000104            0.296980           0.000020\n",
       "2            0.208396          0.000123            0.208168           0.000028\n",
       "3            0.149040          0.000129            0.148754           0.000037\n",
       "4            0.107985          0.000133            0.107661           0.000043\n",
       "5            0.079003          0.000161            0.078640           0.000048\n",
       "6            0.058260          0.000182            0.057859           0.000052\n",
       "7            0.043277          0.000200            0.042845           0.000054\n",
       "8            0.032381          0.000219            0.031910           0.000056\n",
       "9            0.024423          0.000245            0.023907           0.000053\n",
       "10           0.018592          0.000276            0.018028           0.000065\n",
       "11           0.014332          0.000292            0.013701           0.000071\n",
       "12           0.011202          0.000325            0.010504           0.000076\n",
       "13           0.008914          0.000345            0.008134           0.000079\n",
       "14           0.007247          0.000358            0.006383           0.000085\n",
       "15           0.006014          0.000371            0.005059           0.000094\n",
       "16           0.005125          0.000382            0.004057           0.000091\n",
       "17           0.004469          0.000397            0.003307           0.000095\n",
       "18           0.003995          0.000409            0.002727           0.000100\n",
       "19           0.003643          0.000415            0.002282           0.000095\n",
       "20           0.003389          0.000419            0.001939           0.000098\n",
       "21           0.003195          0.000439            0.001680           0.000103\n",
       "22           0.003064          0.000457            0.001479           0.000103\n",
       "23           0.002986          0.000476            0.001313           0.000106\n",
       "24           0.002929          0.000504            0.001172           0.000100\n",
       "25           0.002912          0.000527            0.001047           0.000084\n",
       "26           0.002903          0.000540            0.000955           0.000076\n",
       "27           0.002887          0.000554            0.000855           0.000070\n",
       "28           0.002884          0.000573            0.000773           0.000062\n",
       "29           0.002868          0.000571            0.000704           0.000045"
      ]
     },
     "execution_count": 15,
     "metadata": {},
     "output_type": "execute_result"
    }
   ],
   "source": [
    "cv_history"
   ]
  },
  {
   "cell_type": "code",
   "execution_count": 17,
   "metadata": {
    "collapsed": false
   },
   "outputs": [
    {
     "data": {
      "text/plain": [
       "(30, 4)"
      ]
     },
     "execution_count": 17,
     "metadata": {},
     "output_type": "execute_result"
    }
   ],
   "source": [
    "cv_history.shape"
   ]
  },
  {
   "cell_type": "code",
   "execution_count": 16,
   "metadata": {
    "collapsed": false
   },
   "outputs": [
    {
     "data": {
      "text/plain": [
       "29"
      ]
     },
     "execution_count": 16,
     "metadata": {},
     "output_type": "execute_result"
    }
   ],
   "source": [
    "np.argmin(cv_history['test-logloss-mean'])"
   ]
  },
  {
   "cell_type": "code",
   "execution_count": 7,
   "metadata": {
    "collapsed": false
   },
   "outputs": [
    {
     "name": "stdout",
     "output_type": "stream",
     "text": [
      "[10:57:40] d:\\build\\xgboost\\xgboost-0.80.git\\src\\tree\\updater_prune.cc:74: tree pruning end, 1 roots, 34 extra nodes, 0 pruned nodes, max_depth=6\n",
      "[10:57:40] d:\\build\\xgboost\\xgboost-0.80.git\\src\\tree\\updater_prune.cc:74: tree pruning end, 1 roots, 40 extra nodes, 0 pruned nodes, max_depth=6\n",
      "[10:57:41] d:\\build\\xgboost\\xgboost-0.80.git\\src\\tree\\updater_prune.cc:74: tree pruning end, 1 roots, 38 extra nodes, 0 pruned nodes, max_depth=6\n",
      "[10:57:41] d:\\build\\xgboost\\xgboost-0.80.git\\src\\tree\\updater_prune.cc:74: tree pruning end, 1 roots, 46 extra nodes, 0 pruned nodes, max_depth=6\n",
      "[10:57:42] d:\\build\\xgboost\\xgboost-0.80.git\\src\\tree\\updater_prune.cc:74: tree pruning end, 1 roots, 42 extra nodes, 0 pruned nodes, max_depth=6\n",
      "[10:57:42] d:\\build\\xgboost\\xgboost-0.80.git\\src\\tree\\updater_prune.cc:74: tree pruning end, 1 roots, 48 extra nodes, 0 pruned nodes, max_depth=6\n",
      "[10:57:43] d:\\build\\xgboost\\xgboost-0.80.git\\src\\tree\\updater_prune.cc:74: tree pruning end, 1 roots, 42 extra nodes, 0 pruned nodes, max_depth=6\n",
      "[10:57:43] d:\\build\\xgboost\\xgboost-0.80.git\\src\\tree\\updater_prune.cc:74: tree pruning end, 1 roots, 48 extra nodes, 0 pruned nodes, max_depth=6\n",
      "[10:57:44] d:\\build\\xgboost\\xgboost-0.80.git\\src\\tree\\updater_prune.cc:74: tree pruning end, 1 roots, 42 extra nodes, 0 pruned nodes, max_depth=6\n",
      "[10:57:44] d:\\build\\xgboost\\xgboost-0.80.git\\src\\tree\\updater_prune.cc:74: tree pruning end, 1 roots, 50 extra nodes, 0 pruned nodes, max_depth=6\n",
      "[10:57:45] d:\\build\\xgboost\\xgboost-0.80.git\\src\\tree\\updater_prune.cc:74: tree pruning end, 1 roots, 50 extra nodes, 0 pruned nodes, max_depth=6\n",
      "[10:57:45] d:\\build\\xgboost\\xgboost-0.80.git\\src\\tree\\updater_prune.cc:74: tree pruning end, 1 roots, 52 extra nodes, 0 pruned nodes, max_depth=6\n",
      "[10:57:46] d:\\build\\xgboost\\xgboost-0.80.git\\src\\tree\\updater_prune.cc:74: tree pruning end, 1 roots, 58 extra nodes, 0 pruned nodes, max_depth=6\n",
      "[10:57:46] d:\\build\\xgboost\\xgboost-0.80.git\\src\\tree\\updater_prune.cc:74: tree pruning end, 1 roots, 56 extra nodes, 0 pruned nodes, max_depth=6\n",
      "[10:57:47] d:\\build\\xgboost\\xgboost-0.80.git\\src\\tree\\updater_prune.cc:74: tree pruning end, 1 roots, 56 extra nodes, 0 pruned nodes, max_depth=6\n",
      "[10:57:47] d:\\build\\xgboost\\xgboost-0.80.git\\src\\tree\\updater_prune.cc:74: tree pruning end, 1 roots, 58 extra nodes, 0 pruned nodes, max_depth=6\n",
      "[10:57:48] d:\\build\\xgboost\\xgboost-0.80.git\\src\\tree\\updater_prune.cc:74: tree pruning end, 1 roots, 62 extra nodes, 0 pruned nodes, max_depth=6\n",
      "[10:57:48] d:\\build\\xgboost\\xgboost-0.80.git\\src\\tree\\updater_prune.cc:74: tree pruning end, 1 roots, 62 extra nodes, 0 pruned nodes, max_depth=6\n",
      "[10:57:49] d:\\build\\xgboost\\xgboost-0.80.git\\src\\tree\\updater_prune.cc:74: tree pruning end, 1 roots, 56 extra nodes, 0 pruned nodes, max_depth=6\n",
      "[10:57:49] d:\\build\\xgboost\\xgboost-0.80.git\\src\\tree\\updater_prune.cc:74: tree pruning end, 1 roots, 46 extra nodes, 0 pruned nodes, max_depth=6\n",
      "[10:57:50] d:\\build\\xgboost\\xgboost-0.80.git\\src\\tree\\updater_prune.cc:74: tree pruning end, 1 roots, 56 extra nodes, 0 pruned nodes, max_depth=6\n",
      "[10:57:51] d:\\build\\xgboost\\xgboost-0.80.git\\src\\tree\\updater_prune.cc:74: tree pruning end, 1 roots, 52 extra nodes, 0 pruned nodes, max_depth=6\n",
      "[10:57:51] d:\\build\\xgboost\\xgboost-0.80.git\\src\\tree\\updater_prune.cc:74: tree pruning end, 1 roots, 54 extra nodes, 0 pruned nodes, max_depth=6\n",
      "[10:57:52] d:\\build\\xgboost\\xgboost-0.80.git\\src\\tree\\updater_prune.cc:74: tree pruning end, 1 roots, 40 extra nodes, 0 pruned nodes, max_depth=6\n",
      "[10:57:52] d:\\build\\xgboost\\xgboost-0.80.git\\src\\tree\\updater_prune.cc:74: tree pruning end, 1 roots, 46 extra nodes, 0 pruned nodes, max_depth=6\n",
      "[10:57:53] d:\\build\\xgboost\\xgboost-0.80.git\\src\\tree\\updater_prune.cc:74: tree pruning end, 1 roots, 46 extra nodes, 0 pruned nodes, max_depth=6\n",
      "[10:57:53] d:\\build\\xgboost\\xgboost-0.80.git\\src\\tree\\updater_prune.cc:74: tree pruning end, 1 roots, 42 extra nodes, 0 pruned nodes, max_depth=6\n",
      "[10:57:54] d:\\build\\xgboost\\xgboost-0.80.git\\src\\tree\\updater_prune.cc:74: tree pruning end, 1 roots, 62 extra nodes, 0 pruned nodes, max_depth=6\n",
      "[10:57:54] d:\\build\\xgboost\\xgboost-0.80.git\\src\\tree\\updater_prune.cc:74: tree pruning end, 1 roots, 44 extra nodes, 0 pruned nodes, max_depth=6\n",
      "[  8.64000540e-05   2.01570743e-04   3.91705558e-02 ...,   2.23835334e-04\n",
      "   8.72690871e-05   8.64000540e-05]\n"
     ]
    }
   ],
   "source": [
    "round_with_min_loss = np.argmin(cv_history['test-logloss-mean'])\n",
    "model = xgb.train(params, dtrain, round_with_min_loss)\n",
    "prediction = model.predict(dtest) # this is the predict probability it seems to be\n",
    "print(prediction)\n",
    "\n",
    "# metrics calculation is a little bit different\n",
    "precision, recall, thresholds = precision_recall_curve(y_test.values, prediction[:,1])\n",
    "average_precision = average_precision_score(y_test.values, prediction[:,1])\n",
    "plot_precision_recall_curve(precision, recall, average_precision)\n",
    "\n",
    "fpr, tpr, thresholds = roc_curve(y_test.values, prediction[:,1])\n",
    "roc_area = roc_auc_score(y_test.values, prediction[:,1])\n",
    "plot_roc_curve(fpr, tpr, roc_area)"
   ]
  },
  {
   "cell_type": "code",
   "execution_count": 8,
   "metadata": {
    "collapsed": false
   },
   "outputs": [
    {
     "data": {
      "text/plain": [
       "8.6400054e-05"
      ]
     },
     "execution_count": 8,
     "metadata": {},
     "output_type": "execute_result"
    }
   ],
   "source": [
    "np.amin(prediction)"
   ]
  },
  {
   "cell_type": "code",
   "execution_count": 19,
   "metadata": {
    "collapsed": false
   },
   "outputs": [
    {
     "data": {
      "text/plain": [
       "tuple"
      ]
     },
     "execution_count": 19,
     "metadata": {},
     "output_type": "execute_result"
    }
   ],
   "source": [
    "y = np.where(prediction > 0.6)\n",
    "type(y)"
   ]
  },
  {
   "cell_type": "code",
   "execution_count": 20,
   "metadata": {
    "collapsed": false
   },
   "outputs": [
    {
     "data": {
      "text/plain": [
       "137"
      ]
     },
     "execution_count": 20,
     "metadata": {},
     "output_type": "execute_result"
    }
   ],
   "source": [
    "np.size(y)"
   ]
  },
  {
   "cell_type": "code",
   "execution_count": null,
   "metadata": {
    "collapsed": true
   },
   "outputs": [],
   "source": [
    "#### light GBM performance"
   ]
  },
  {
   "cell_type": "code",
   "execution_count": null,
   "metadata": {
    "collapsed": true
   },
   "outputs": [],
   "source": [
    "params_lgb = {'task': 'train',\n",
    "    'application':'binary',\n",
    "    'num_class':1,\n",
    "    'boosting': 'gbdt',\n",
    "    'objective': 'binary',\n",
    "    'metric': 'binary_logloss',\n",
    "    'metric_freq':50,\n",
    "    'is_training_metric':False,\n",
    "    'max_depth':4,\n",
    "    'num_leaves': 31,\n",
    "    'learning_rate': 0.01,\n",
    "    'feature_fraction': 1.0,\n",
    "    'bagging_fraction': 1.0,\n",
    "    'bagging_freq': 0,\n",
    "    'bagging_seed': 2018,\n",
    "    'verbose': 0}"
   ]
  },
  {
   "cell_type": "code",
   "execution_count": null,
   "metadata": {
    "collapsed": true
   },
   "outputs": [],
   "source": [
    "lgb_train = lgb.Dataset(X_train, y_train)\n",
    "lgb_eval = lgb.Dataset(X_test, y_test, reference=lgb_train) # should use CV or split a validation set from training.\n",
    "model = gb.train(params_lgb, lgb_train, num_boost_round=2000, valid_sets=lgb_eval, early_stopping_rounds=200)"
   ]
  }
 ],
 "metadata": {
  "anaconda-cloud": {},
  "kernelspec": {
   "display_name": "Python [default]",
   "language": "python",
   "name": "python3"
  },
  "language_info": {
   "codemirror_mode": {
    "name": "ipython",
    "version": 3
   },
   "file_extension": ".py",
   "mimetype": "text/x-python",
   "name": "python",
   "nbconvert_exporter": "python",
   "pygments_lexer": "ipython3",
   "version": "3.5.2"
  }
 },
 "nbformat": 4,
 "nbformat_minor": 2
}
