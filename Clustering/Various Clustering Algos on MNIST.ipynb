{
 "cells": [
  {
   "cell_type": "markdown",
   "metadata": {},
   "source": [
    "## Clustering with PCA first on MINST data"
   ]
  },
  {
   "cell_type": "markdown",
   "metadata": {},
   "source": [
    "### KMeans clustering"
   ]
  },
  {
   "cell_type": "code",
   "execution_count": 3,
   "metadata": {
    "collapsed": false
   },
   "outputs": [],
   "source": [
    "import pandas as pd\n",
    "import numpy as np\n",
    "import pickle, gzip\n",
    "\n",
    "file = 'C:/dev/research/temp/handson-unsupervised-learning/datasets/mnist_data/mnist.pkl.gz'\n",
    "\n",
    "f = gzip.open(file, 'rb')\n",
    "\n",
    "train_set, validation_set, test_set = pickle.load(f, encoding='latin1')\n",
    "f.close()\n",
    "\n",
    "X_train, y_train = train_set[0], train_set[1]\n",
    "X_validation, y_validation = validation_set[0], validation_set[1]\n",
    "X_test, y_test = test_set[0], test_set[1]\n",
    "\n",
    "## In orde to do PCA, let's put them into dataframe\n",
    "\n",
    "train_index = range(0, len(X_train))\n",
    "validation_index = range(len(X_train), len(X_train)+ len(X_validation))\n",
    "test_index = range(len(X_train)+ len(X_validation), len(X_train)+ len(X_validation)+len(X_test))\n",
    "\n",
    "pd_X_train = pd.DataFrame(data=X_train, index = train_index)\n",
    "pd_X_validation = pd.DataFrame(data=X_validation, index = validation_index)\n",
    "pd_X_test = pd.DataFrame(data=X_test, index=test_index)\n",
    "\n",
    "pd_y_train = pd.Series(data=y_train, index=train_index)\n",
    "pd_y_test = pd.Series(data=y_test, index=validation_index)\n",
    "pd_y_validation = pd.Series(data=y_validation, index=test_index)\n"
   ]
  },
  {
   "cell_type": "code",
   "execution_count": 4,
   "metadata": {
    "collapsed": false
   },
   "outputs": [],
   "source": [
    "## PCA\n",
    "from sklearn.decomposition import PCA\n",
    "\n",
    "random_state = 2019\n",
    "n_components = 784\n",
    "whiten = False\n",
    "\n",
    "pca = PCA(n_components=n_components, random_state=random_state, whiten=whiten)\n",
    "X_train_PCA = pca.fit_transform(X_train) # strange the result of fit_transform is numpy narray\n",
    "\n",
    "pd_X_train_PCA = pd.DataFrame(data=X_train_PCA, index=train_index)\n",
    "\n"
   ]
  },
  {
   "cell_type": "code",
   "execution_count": 72,
   "metadata": {
    "collapsed": false
   },
   "outputs": [],
   "source": [
    "# k-means - Inertia as the number of clusters varies\n",
    "from sklearn.cluster import KMeans\n",
    "\n",
    "def get_kMeans_inertia_pd(dataPD, cluster_range, train_index, cutoff=99):\n",
    "    n_clusters = 10\n",
    "    n_init = 10\n",
    "    max_iter = 300\n",
    "    tol = 0.0001\n",
    "    random_state = 2018\n",
    "    n_jobs = 2\n",
    "    \n",
    "    kMeans_inertia = pd.DataFrame(data=[],index=cluster_range, \\\n",
    "                                  columns=['inertia'])\n",
    "    n_clusters_to_predictions = []\n",
    "    n_clusters_to_centers = []\n",
    "    \n",
    "    for n_clusters in cluster_range:\n",
    "        kMeans_model = KMeans(n_clusters=n_clusters, n_init=n_init, \\\n",
    "                    max_iter=max_iter, tol=tol, random_state=random_state, \\\n",
    "                    n_jobs=n_jobs)\n",
    "\n",
    "        \n",
    "        kMeans_model.fit(dataPD.loc[:,0:cutoff])\n",
    "        kMeans_inertia.loc[n_clusters] = kMeans_model.inertia_\n",
    "        n_clusters_to_predictions.append(pd.DataFrame(data=kMeans_model.predict(dataPD.loc[:,0:cutoff]),\\\n",
    "                                                     index=train_index, columns=['predicted_cluster_index']))\n",
    "        n_clusters_to_centers.append(pd.DataFrame(data=kMeans_model.cluster_centers_))\n",
    "    \n",
    "    return kMeans_inertia, kMeans_model, n_clusters_to_predictions, n_clusters_to_centers"
   ]
  },
  {
   "cell_type": "code",
   "execution_count": 61,
   "metadata": {
    "collapsed": false
   },
   "outputs": [],
   "source": [
    "inertia, model, predictions, centers = get_kMeans_inertia_pd(pd_X_train_PCA, range(2,21), train_index)\n"
   ]
  },
  {
   "cell_type": "code",
   "execution_count": 62,
   "metadata": {
    "collapsed": false
   },
   "outputs": [
    {
     "data": {
      "image/png": "[encoded data removed]",
      "text/plain": [
       "<matplotlib.figure.Figure at 0x274bf4de048>"
      ]
     },
     "metadata": {},
     "output_type": "display_data"
    }
   ],
   "source": [
    "import matplotlib.pyplot as plt\n",
    "inertia.plot()\n",
    "plt.show()"
   ]
  },
  {
   "cell_type": "code",
   "execution_count": 76,
   "metadata": {
    "collapsed": false
   },
   "outputs": [
    {
     "data": {
      "text/html": [
       "<div>\n",
       "<style>\n",
       "    .dataframe thead tr:only-child th {\n",
       "        text-align: right;\n",
       "    }\n",
       "\n",
       "    .dataframe thead th {\n",
       "        text-align: left;\n",
       "    }\n",
       "\n",
       "    .dataframe tbody tr th {\n",
       "        vertical-align: top;\n",
       "    }\n",
       "</style>\n",
       "<table border=\"1\" class=\"dataframe\">\n",
       "  <thead>\n",
       "    <tr style=\"text-align: right;\">\n",
       "      <th></th>\n",
       "      <th>0</th>\n",
       "      <th>1</th>\n",
       "      <th>2</th>\n",
       "      <th>3</th>\n",
       "      <th>4</th>\n",
       "      <th>5</th>\n",
       "      <th>6</th>\n",
       "      <th>7</th>\n",
       "      <th>8</th>\n",
       "      <th>9</th>\n",
       "      <th>...</th>\n",
       "      <th>90</th>\n",
       "      <th>91</th>\n",
       "      <th>92</th>\n",
       "      <th>93</th>\n",
       "      <th>94</th>\n",
       "      <th>95</th>\n",
       "      <th>96</th>\n",
       "      <th>97</th>\n",
       "      <th>98</th>\n",
       "      <th>99</th>\n",
       "    </tr>\n",
       "  </thead>\n",
       "  <tbody>\n",
       "    <tr>\n",
       "      <th>0</th>\n",
       "      <td>-0.082020</td>\n",
       "      <td>2.395249</td>\n",
       "      <td>-1.402395</td>\n",
       "      <td>0.452784</td>\n",
       "      <td>0.179668</td>\n",
       "      <td>-0.049954</td>\n",
       "      <td>-0.742051</td>\n",
       "      <td>0.505450</td>\n",
       "      <td>0.282251</td>\n",
       "      <td>0.779866</td>\n",
       "      <td>...</td>\n",
       "      <td>0.009392</td>\n",
       "      <td>-0.004496</td>\n",
       "      <td>-0.008323</td>\n",
       "      <td>-0.007605</td>\n",
       "      <td>-0.018507</td>\n",
       "      <td>-0.011683</td>\n",
       "      <td>0.001713</td>\n",
       "      <td>0.007499</td>\n",
       "      <td>-0.002775</td>\n",
       "      <td>-0.004215</td>\n",
       "    </tr>\n",
       "    <tr>\n",
       "      <th>1</th>\n",
       "      <td>-2.867544</td>\n",
       "      <td>-1.271693</td>\n",
       "      <td>0.245073</td>\n",
       "      <td>0.412873</td>\n",
       "      <td>-0.757638</td>\n",
       "      <td>0.021601</td>\n",
       "      <td>0.136439</td>\n",
       "      <td>-0.288259</td>\n",
       "      <td>0.302991</td>\n",
       "      <td>0.237147</td>\n",
       "      <td>...</td>\n",
       "      <td>-0.004865</td>\n",
       "      <td>-0.002022</td>\n",
       "      <td>-0.000558</td>\n",
       "      <td>-0.002659</td>\n",
       "      <td>0.001267</td>\n",
       "      <td>-0.009114</td>\n",
       "      <td>-0.002064</td>\n",
       "      <td>-0.006929</td>\n",
       "      <td>-0.003912</td>\n",
       "      <td>0.003688</td>\n",
       "    </tr>\n",
       "    <tr>\n",
       "      <th>2</th>\n",
       "      <td>0.393894</td>\n",
       "      <td>-0.879738</td>\n",
       "      <td>1.466901</td>\n",
       "      <td>-1.744031</td>\n",
       "      <td>0.677636</td>\n",
       "      <td>0.021752</td>\n",
       "      <td>-0.563335</td>\n",
       "      <td>-0.086733</td>\n",
       "      <td>-0.331015</td>\n",
       "      <td>0.425205</td>\n",
       "      <td>...</td>\n",
       "      <td>-0.000032</td>\n",
       "      <td>-0.009524</td>\n",
       "      <td>-0.017826</td>\n",
       "      <td>-0.013130</td>\n",
       "      <td>0.005429</td>\n",
       "      <td>0.006004</td>\n",
       "      <td>-0.003107</td>\n",
       "      <td>-0.004024</td>\n",
       "      <td>-0.005742</td>\n",
       "      <td>0.013190</td>\n",
       "    </tr>\n",
       "    <tr>\n",
       "      <th>3</th>\n",
       "      <td>0.781772</td>\n",
       "      <td>-1.657453</td>\n",
       "      <td>-2.295465</td>\n",
       "      <td>-0.799372</td>\n",
       "      <td>0.615403</td>\n",
       "      <td>-0.165403</td>\n",
       "      <td>-0.173237</td>\n",
       "      <td>0.288506</td>\n",
       "      <td>-0.038938</td>\n",
       "      <td>-0.709662</td>\n",
       "      <td>...</td>\n",
       "      <td>-0.010542</td>\n",
       "      <td>0.004003</td>\n",
       "      <td>0.005578</td>\n",
       "      <td>0.007539</td>\n",
       "      <td>0.002996</td>\n",
       "      <td>0.006948</td>\n",
       "      <td>0.005386</td>\n",
       "      <td>-0.000692</td>\n",
       "      <td>0.015007</td>\n",
       "      <td>-0.006861</td>\n",
       "    </tr>\n",
       "    <tr>\n",
       "      <th>4</th>\n",
       "      <td>0.881147</td>\n",
       "      <td>-0.282425</td>\n",
       "      <td>0.982788</td>\n",
       "      <td>2.216478</td>\n",
       "      <td>1.074888</td>\n",
       "      <td>-0.636534</td>\n",
       "      <td>0.496746</td>\n",
       "      <td>0.114547</td>\n",
       "      <td>-0.375314</td>\n",
       "      <td>-0.025221</td>\n",
       "      <td>...</td>\n",
       "      <td>0.011841</td>\n",
       "      <td>-0.001415</td>\n",
       "      <td>0.008383</td>\n",
       "      <td>-0.005397</td>\n",
       "      <td>0.004956</td>\n",
       "      <td>0.012228</td>\n",
       "      <td>-0.004822</td>\n",
       "      <td>0.007452</td>\n",
       "      <td>0.000922</td>\n",
       "      <td>-0.001646</td>\n",
       "    </tr>\n",
       "    <tr>\n",
       "      <th>5</th>\n",
       "      <td>-0.922107</td>\n",
       "      <td>2.259273</td>\n",
       "      <td>0.968446</td>\n",
       "      <td>-1.083282</td>\n",
       "      <td>-0.201394</td>\n",
       "      <td>0.654500</td>\n",
       "      <td>0.584307</td>\n",
       "      <td>-0.166589</td>\n",
       "      <td>-0.160735</td>\n",
       "      <td>-1.035270</td>\n",
       "      <td>...</td>\n",
       "      <td>-0.005807</td>\n",
       "      <td>0.012774</td>\n",
       "      <td>0.009807</td>\n",
       "      <td>0.018888</td>\n",
       "      <td>0.014990</td>\n",
       "      <td>0.008653</td>\n",
       "      <td>0.014058</td>\n",
       "      <td>0.000991</td>\n",
       "      <td>-0.002245</td>\n",
       "      <td>-0.006791</td>\n",
       "    </tr>\n",
       "    <tr>\n",
       "      <th>6</th>\n",
       "      <td>4.381337</td>\n",
       "      <td>-0.858099</td>\n",
       "      <td>0.332545</td>\n",
       "      <td>-0.165609</td>\n",
       "      <td>-2.460651</td>\n",
       "      <td>0.391403</td>\n",
       "      <td>0.249215</td>\n",
       "      <td>-0.614140</td>\n",
       "      <td>0.367254</td>\n",
       "      <td>0.474878</td>\n",
       "      <td>...</td>\n",
       "      <td>-0.001160</td>\n",
       "      <td>0.000512</td>\n",
       "      <td>0.000255</td>\n",
       "      <td>0.003938</td>\n",
       "      <td>-0.016999</td>\n",
       "      <td>-0.017710</td>\n",
       "      <td>-0.018473</td>\n",
       "      <td>-0.007669</td>\n",
       "      <td>-0.001772</td>\n",
       "      <td>0.007124</td>\n",
       "    </tr>\n",
       "  </tbody>\n",
       "</table>\n",
       "<p>7 rows × 100 columns</p>\n",
       "</div>"
      ],
      "text/plain": [
       "         0         1         2         3         4         5         6   \\\n",
       "0 -0.082020  2.395249 -1.402395  0.452784  0.179668 -0.049954 -0.742051   \n",
       "1 -2.867544 -1.271693  0.245073  0.412873 -0.757638  0.021601  0.136439   \n",
       "2  0.393894 -0.879738  1.466901 -1.744031  0.677636  0.021752 -0.563335   \n",
       "3  0.781772 -1.657453 -2.295465 -0.799372  0.615403 -0.165403 -0.173237   \n",
       "4  0.881147 -0.282425  0.982788  2.216478  1.074888 -0.636534  0.496746   \n",
       "5 -0.922107  2.259273  0.968446 -1.083282 -0.201394  0.654500  0.584307   \n",
       "6  4.381337 -0.858099  0.332545 -0.165609 -2.460651  0.391403  0.249215   \n",
       "\n",
       "         7         8         9     ...           90        91        92  \\\n",
       "0  0.505450  0.282251  0.779866    ...     0.009392 -0.004496 -0.008323   \n",
       "1 -0.288259  0.302991  0.237147    ...    -0.004865 -0.002022 -0.000558   \n",
       "2 -0.086733 -0.331015  0.425205    ...    -0.000032 -0.009524 -0.017826   \n",
       "3  0.288506 -0.038938 -0.709662    ...    -0.010542  0.004003  0.005578   \n",
       "4  0.114547 -0.375314 -0.025221    ...     0.011841 -0.001415  0.008383   \n",
       "5 -0.166589 -0.160735 -1.035270    ...    -0.005807  0.012774  0.009807   \n",
       "6 -0.614140  0.367254  0.474878    ...    -0.001160  0.000512  0.000255   \n",
       "\n",
       "         93        94        95        96        97        98        99  \n",
       "0 -0.007605 -0.018507 -0.011683  0.001713  0.007499 -0.002775 -0.004215  \n",
       "1 -0.002659  0.001267 -0.009114 -0.002064 -0.006929 -0.003912  0.003688  \n",
       "2 -0.013130  0.005429  0.006004 -0.003107 -0.004024 -0.005742  0.013190  \n",
       "3  0.007539  0.002996  0.006948  0.005386 -0.000692  0.015007 -0.006861  \n",
       "4 -0.005397  0.004956  0.012228 -0.004822  0.007452  0.000922 -0.001646  \n",
       "5  0.018888  0.014990  0.008653  0.014058  0.000991 -0.002245 -0.006791  \n",
       "6  0.003938 -0.016999 -0.017710 -0.018473 -0.007669 -0.001772  0.007124  \n",
       "\n",
       "[7 rows x 100 columns]"
      ]
     },
     "execution_count": 76,
     "metadata": {},
     "output_type": "execute_result"
    }
   ],
   "source": [
    "## the center is in the form of \n",
    "#\n",
    "# [index  of the cluster, n features in the cluster]\n",
    "#\n",
    "# i.e. the number of rows is actually the number of clusters created \n",
    "#\n",
    "# To get what it actually predicted (in terms of labels - the digits) we need to know\n",
    "# what is the label(s) for these centroids??\n",
    "#\n",
    "\n",
    "centers[5] # 5 = the 5th n_clusters which means using n_clusters = 7 to train the model"
   ]
  },
  {
   "cell_type": "code",
   "execution_count": 64,
   "metadata": {
    "collapsed": false
   },
   "outputs": [
    {
     "data": {
      "text/html": [
       "<div>\n",
       "<style>\n",
       "    .dataframe thead tr:only-child th {\n",
       "        text-align: right;\n",
       "    }\n",
       "\n",
       "    .dataframe thead th {\n",
       "        text-align: left;\n",
       "    }\n",
       "\n",
       "    .dataframe tbody tr th {\n",
       "        vertical-align: top;\n",
       "    }\n",
       "</style>\n",
       "<table border=\"1\" class=\"dataframe\">\n",
       "  <thead>\n",
       "    <tr style=\"text-align: right;\">\n",
       "      <th></th>\n",
       "      <th>predicted_cluster_index</th>\n",
       "    </tr>\n",
       "  </thead>\n",
       "  <tbody>\n",
       "    <tr>\n",
       "      <th>49995</th>\n",
       "      <td>3</td>\n",
       "    </tr>\n",
       "    <tr>\n",
       "      <th>49996</th>\n",
       "      <td>6</td>\n",
       "    </tr>\n",
       "    <tr>\n",
       "      <th>49997</th>\n",
       "      <td>3</td>\n",
       "    </tr>\n",
       "    <tr>\n",
       "      <th>49998</th>\n",
       "      <td>0</td>\n",
       "    </tr>\n",
       "    <tr>\n",
       "      <th>49999</th>\n",
       "      <td>3</td>\n",
       "    </tr>\n",
       "  </tbody>\n",
       "</table>\n",
       "</div>"
      ],
      "text/plain": [
       "       predicted_cluster_index\n",
       "49995                        3\n",
       "49996                        6\n",
       "49997                        3\n",
       "49998                        0\n",
       "49999                        3"
      ]
     },
     "execution_count": 64,
     "metadata": {},
     "output_type": "execute_result"
    }
   ],
   "source": [
    "predictions[5].tail()"
   ]
  },
  {
   "cell_type": "code",
   "execution_count": 11,
   "metadata": {
    "collapsed": false
   },
   "outputs": [
    {
     "data": {
      "text/plain": [
       "(50000,)"
      ]
     },
     "execution_count": 11,
     "metadata": {},
     "output_type": "execute_result"
    }
   ],
   "source": [
    "y_train.shape"
   ]
  },
  {
   "cell_type": "code",
   "execution_count": 12,
   "metadata": {
    "collapsed": false
   },
   "outputs": [
    {
     "data": {
      "text/plain": [
       "(50000, 1)"
      ]
     },
     "execution_count": 12,
     "metadata": {},
     "output_type": "execute_result"
    }
   ],
   "source": [
    "predictions[3].shape"
   ]
  },
  {
   "cell_type": "code",
   "execution_count": 146,
   "metadata": {
    "collapsed": false
   },
   "outputs": [],
   "source": [
    "## To see how well clustering perform, let's see the statistics within each cluser\n",
    "# \n",
    "# Since we know each row of X_train is now associated with an index to a cluster,\n",
    "# we can find within a cluster (index) how many X_train data and the y_label are there\n",
    "#\n",
    "# For each cluster, there will be a dominant labels (the most frequent one)\n",
    "# and the centroid of the cluster should theoretically be closest to this most frequent\n",
    "# label.\n",
    "\n",
    "pd_y_train = pd.DataFrame(data=y_train, columns=['labels'])\n",
    "predictions_labeled = [pd.concat([p,pd_y_train], axis=1) for p in predictions ]\n",
    "\n",
    "# Find the value of the most frequent labels within each clusters\n",
    "list_predictedClusterIndex_mostFreqCount = [pd.DataFrame(data=p.groupby('predicted_cluster_index').agg(lambda x:x.value_counts().iloc[0])) for \\\n",
    "                                           p in predictions_labeled]\n",
    "\n"
   ]
  },
  {
   "cell_type": "code",
   "execution_count": 172,
   "metadata": {
    "collapsed": false
   },
   "outputs": [
    {
     "name": "stdout",
     "output_type": "stream",
     "text": [
      "                                labels\n",
      "predicted_cluster_index labels        \n",
      "0                       1         3157\n",
      "                        3          291\n",
      "                        2          248\n",
      "                        8          205\n",
      "                        7          182\n",
      "                        9          114\n",
      "                        5           93\n",
      "                        4           64\n",
      "                        6           60\n",
      "                        0            1\n",
      "1                       2         3456\n",
      "                        3          182\n",
      "                        8           38\n",
      "                        7           25\n",
      "                        6           14\n",
      "                        4           13\n",
      "                        0           11\n",
      "                        1            9\n",
      "                        9            8\n",
      "                        5            2\n",
      "2                       6         2494\n",
      "                        5          378\n",
      "                        0          225\n",
      "                        2          144\n",
      "                        4          140\n",
      "                        3           96\n",
      "                        8           56\n",
      "                        1           10\n",
      "                        9            5\n",
      "                        7            2\n",
      "...                                ...\n",
      "8                       7            4\n",
      "9                       7         1982\n",
      "                        9         1952\n",
      "                        4         1281\n",
      "                        5          235\n",
      "                        8          126\n",
      "                        3          110\n",
      "                        2           32\n",
      "                        0           14\n",
      "                        1            9\n",
      "                        6            1\n",
      "10                      1         2468\n",
      "                        5          554\n",
      "                        2          331\n",
      "                        8          319\n",
      "                        7          188\n",
      "                        4          173\n",
      "                        3           78\n",
      "                        6           73\n",
      "                        9           62\n",
      "                        0           17\n",
      "11                      0         2061\n",
      "                        5          120\n",
      "                        3           89\n",
      "                        2           82\n",
      "                        6           76\n",
      "                        8           16\n",
      "                        9           12\n",
      "                        4           10\n",
      "                        7            6\n",
      "\n",
      "[117 rows x 1 columns]\n",
      "                         labels\n",
      "predicted_cluster_index        \n",
      "0                          3157\n",
      "1                          3456\n",
      "2                          2494\n",
      "3                          2271\n",
      "4                          2219\n",
      "labels    30097\n",
      "dtype: int64\n",
      "30097\n",
      "predicted_cluster_index  labels\n",
      "0                        1         3157\n",
      "1                        2         3456\n",
      "2                        6         2494\n",
      "3                        0         2271\n",
      "4                        7         2219\n",
      "5                        3         3276\n",
      "6                        6         2125\n",
      "7                        4         1850\n",
      "8                        8         2738\n",
      "9                        7         1982\n",
      "10                       1         2468\n",
      "11                       0         2061\n",
      "Name: labels, dtype: int64\n",
      "    predicted_cluster_index\n",
      "5                      6309\n",
      "9                      5742\n",
      "4                      5354\n",
      "8                      4887\n",
      "0                      4415\n",
      "7                      4360\n",
      "10                     4263\n",
      "1                      3758\n",
      "2                      3550\n",
      "11                     2472\n",
      "6                      2445\n",
      "3                      2445\n",
      "predicted_cluster_index    50000\n",
      "dtype: int64\n"
     ]
    }
   ],
   "source": [
    "# Experimenting to see what the data actually looks like\n",
    "#\n",
    "# Search for dataframe multiindex \n",
    "# https://stackoverflow.com/questions/48956379/getting-max-values-from-pandas-multiindex-dataframe\n",
    "\n",
    "# Multi index label counts per cluster index\n",
    "tempAll = pd.DataFrame(data=predictions_labled[10].groupby('predicted_cluster_index').agg({'labels':'value_counts'}))\n",
    "print(tempAll)\n",
    "\n",
    "tempAll2 = pd.DataFrame(data=predictions_labled[10].groupby('predicted_cluster_index').agg(lambda x:x.value_counts().iloc[0]))\n",
    "print(tempAll2.head())\n",
    "print(tempAll2.sum())\n",
    "print(tempAll2['labels'].sum())\n",
    "\n",
    "\n",
    "# Generate dataframe with cluster index to labels of max count\n",
    "tempMult = predictions_labled[10].groupby('predicted_cluster_index')['labels'].value_counts()\n",
    "clusterIdx_max_label = tempMult.loc[tempMult.groupby(level=0).idxmax]\n",
    "print(clusterIdx_max_label)\n",
    "\n",
    "## total count per cluster\n",
    "tempCount = pd.DataFrame(data=predictions_labled[10]['predicted_cluster_index'].value_counts())\n",
    "print(tempCount)\n",
    "print(tempCount.sum())\n",
    "\n"
   ]
  },
  {
   "cell_type": "code",
   "execution_count": 152,
   "metadata": {
    "collapsed": false
   },
   "outputs": [],
   "source": [
    "## So now we have a mapping on what each cluster predicts (for the 10th n_cluster result)\n",
    "## Let's create a list for such result with all values of n_clusters\n",
    "\n",
    "def get_cluster_index_to_label(pd):\n",
    "    tempMult = pd.groupby('predicted_cluster_index')['labels'].value_counts()\n",
    "    result = tempMult.loc[tempMult.groupby(level=0).idxmax]  # it is a dataframe\n",
    "    result.columns = ['predicted_cluster_index','labels','counts']\n",
    "    return result\n",
    "    \n",
    "list_preidctedClusterIndex_label_maxCount = [get_cluster_index_to_label(p) for p in predictions_labeled]"
   ]
  },
  {
   "cell_type": "code",
   "execution_count": 156,
   "metadata": {
    "collapsed": false
   },
   "outputs": [
    {
     "name": "stdout",
     "output_type": "stream",
     "text": [
      "predicted_cluster_index  labels\n",
      "7                        4         1850\n",
      "8                        8         2738\n",
      "9                        7         1982\n",
      "10                       1         2468\n",
      "11                       0         2061\n",
      "Name: labels, dtype: int64\n"
     ]
    }
   ],
   "source": [
    "print(list_preidctedClusterIndex_label_maxCount[10].tail())"
   ]
  },
  {
   "cell_type": "code",
   "execution_count": 17,
   "metadata": {
    "collapsed": true
   },
   "outputs": [],
   "source": [
    "def get_overall_accuracy(p):\n",
    "    pd_maxCount=pd.DataFrame(data=p.groupby('predicted_cluster_index').agg(lambda x:x.value_counts().iloc[0]))\n",
    "    maxCount_sum = pd_maxCount['labels'].sum()\n",
    "    pd_sum_all= pd.DataFrame(data=p['predicted_cluster_index'].value_counts())\n",
    "    return maxCount_sum/pd_sum_all.sum()\n",
    "    "
   ]
  },
  {
   "cell_type": "code",
   "execution_count": 173,
   "metadata": {
    "collapsed": false
   },
   "outputs": [],
   "source": [
    "## What is accuracy then?\n",
    "#\n",
    "# Per cluster = [most frequent count]/[total count in the cluster]\n",
    "#\n",
    "# Across all cluster = [most frequent count].sum_over_all_clusters/[total observations]\n",
    "#\n",
    "# The goal is to plot how over all accuracy varies over values of n_cluster\n",
    "\n",
    "def get_accuracy(pred_labeled):\n",
    "    \n",
    "    n_clusters_to_accuracy = []\n",
    "    \n",
    "    # Find the value of the most frequent labels within each clusters\n",
    "    for p in pred_labeled:\n",
    "        n_clusters_to_accuracy.append(get_overall_accuracy(p))\n",
    "        \n",
    "    return n_clusters_to_accuracy ## However it is a list, not indexed with the actual n_clusters value\n",
    "        "
   ]
  },
  {
   "cell_type": "code",
   "execution_count": 174,
   "metadata": {
    "collapsed": false
   },
   "outputs": [
    {
     "data": {
      "image/png": "[encoded data removed]",
      "text/plain": [
       "<matplotlib.figure.Figure at 0x274c6636b00>"
      ]
     },
     "metadata": {},
     "output_type": "display_data"
    }
   ],
   "source": [
    "## Now plot the graph\n",
    "to_be_plot = get_accuracy(predictions_labeled)\n",
    "plt.plot(to_be_plot)\n",
    "plt.show()"
   ]
  },
  {
   "cell_type": "code",
   "execution_count": 175,
   "metadata": {
    "collapsed": true
   },
   "outputs": [],
   "source": [
    "## It shows that as the number of clusters increases the accuracy increases \n",
    "## But it platoons after a certain value\n",
    "\n",
    "## A function to do all the above in one go\n",
    "\n",
    "import matplotlib.pyplot as plt\n",
    "\n",
    "def investigate_n_clusters_with_accuracy(pd_x_train):\n",
    "    \n",
    "    # pd_x_train = pd_X_train_PCA\n",
    "    inertia, model, predictions, centers = get_kMeans_inertia_pd(pd_x_train, range(2,21), train_index)\n",
    "    \n",
    "    # Plot inertia\n",
    "    inertia.plot()\n",
    "    plt.show()\n",
    "    \n",
    "    # For each cluster, there will be a dominant labels (the most frequent one)\n",
    "    # and the centroid of the cluster should theoretically be closest to this most frequent\n",
    "    # label.\n",
    "\n",
    "    pd_y_train = pd.DataFrame(data=y_train, columns=['labels'])\n",
    "    predictions_labeled = [pd.concat([p,pd_y_train], axis=1) for p in predictions ]\n",
    "\n",
    "    accuracy_list = get_accuracy(predictions_labeled)\n",
    "    plt.plot(accuracy_list)\n",
    "    plt.show()\n",
    "    "
   ]
  },
  {
   "cell_type": "code",
   "execution_count": 176,
   "metadata": {
    "collapsed": false
   },
   "outputs": [
    {
     "data": {
      "image/png": "[encoded data removed]",
      "text/plain": [
       "<matplotlib.figure.Figure at 0x274cb96a240>"
      ]
     },
     "metadata": {},
     "output_type": "display_data"
    },
    {
     "data": {
      "image/png": "[encoded data removed]",
      "text/plain": [
       "<matplotlib.figure.Figure at 0x274cd950e10>"
      ]
     },
     "metadata": {},
     "output_type": "display_data"
    }
   ],
   "source": [
    "investigate_n_clusters_with_accuracy(pd_X_train_PCA)"
   ]
  },
  {
   "cell_type": "markdown",
   "metadata": {},
   "source": [
    "### Hierarchical Clustering"
   ]
  },
  {
   "cell_type": "code",
   "execution_count": 2,
   "metadata": {
    "collapsed": true
   },
   "outputs": [],
   "source": [
    "import fastcluster\n",
    "from scipy.cluster.hierarchy import dendrogram, cophenet, fcluster\n",
    "from scipy.spatial.distance import pdist"
   ]
  },
  {
   "cell_type": "code",
   "execution_count": 5,
   "metadata": {
    "collapsed": true
   },
   "outputs": [],
   "source": [
    "## \n",
    "#\n",
    "# Need to run the approve first 2 cells to load the data, PCA, and dataframe it first\n",
    "#\n",
    "##\n",
    "\n",
    "cutoff = 99\n",
    "Z = fastcluster.linkage_vector(pd_X_train_PCA.loc[:,0:cutoff], method='ward', metric='euclidean')\n",
    "Z_dataFrame = pd.DataFrame(data=Z, columns=['clusterOne','clusterTwo','distance','newClusterSize'])"
   ]
  },
  {
   "cell_type": "code",
   "execution_count": 6,
   "metadata": {
    "collapsed": false
   },
   "outputs": [
    {
     "data": {
      "text/html": [
       "<div>\n",
       "<style>\n",
       "    .dataframe thead tr:only-child th {\n",
       "        text-align: right;\n",
       "    }\n",
       "\n",
       "    .dataframe thead th {\n",
       "        text-align: left;\n",
       "    }\n",
       "\n",
       "    .dataframe tbody tr th {\n",
       "        vertical-align: top;\n",
       "    }\n",
       "</style>\n",
       "<table border=\"1\" class=\"dataframe\">\n",
       "  <thead>\n",
       "    <tr style=\"text-align: right;\">\n",
       "      <th></th>\n",
       "      <th>clusterOne</th>\n",
       "      <th>clusterTwo</th>\n",
       "      <th>distance</th>\n",
       "      <th>newClusterSize</th>\n",
       "    </tr>\n",
       "  </thead>\n",
       "  <tbody>\n",
       "    <tr>\n",
       "      <th>0</th>\n",
       "      <td>42194.0</td>\n",
       "      <td>43025.0</td>\n",
       "      <td>0.562682</td>\n",
       "      <td>2.0</td>\n",
       "    </tr>\n",
       "    <tr>\n",
       "      <th>1</th>\n",
       "      <td>28350.0</td>\n",
       "      <td>37674.0</td>\n",
       "      <td>0.590866</td>\n",
       "      <td>2.0</td>\n",
       "    </tr>\n",
       "    <tr>\n",
       "      <th>2</th>\n",
       "      <td>26696.0</td>\n",
       "      <td>44705.0</td>\n",
       "      <td>0.621506</td>\n",
       "      <td>2.0</td>\n",
       "    </tr>\n",
       "    <tr>\n",
       "      <th>3</th>\n",
       "      <td>12634.0</td>\n",
       "      <td>32823.0</td>\n",
       "      <td>0.627762</td>\n",
       "      <td>2.0</td>\n",
       "    </tr>\n",
       "    <tr>\n",
       "      <th>4</th>\n",
       "      <td>24707.0</td>\n",
       "      <td>43151.0</td>\n",
       "      <td>0.637668</td>\n",
       "      <td>2.0</td>\n",
       "    </tr>\n",
       "    <tr>\n",
       "      <th>5</th>\n",
       "      <td>20465.0</td>\n",
       "      <td>24483.0</td>\n",
       "      <td>0.662557</td>\n",
       "      <td>2.0</td>\n",
       "    </tr>\n",
       "    <tr>\n",
       "      <th>6</th>\n",
       "      <td>466.0</td>\n",
       "      <td>42098.0</td>\n",
       "      <td>0.664189</td>\n",
       "      <td>2.0</td>\n",
       "    </tr>\n",
       "    <tr>\n",
       "      <th>7</th>\n",
       "      <td>46542.0</td>\n",
       "      <td>49961.0</td>\n",
       "      <td>0.665520</td>\n",
       "      <td>2.0</td>\n",
       "    </tr>\n",
       "    <tr>\n",
       "      <th>8</th>\n",
       "      <td>2301.0</td>\n",
       "      <td>5732.0</td>\n",
       "      <td>0.671215</td>\n",
       "      <td>2.0</td>\n",
       "    </tr>\n",
       "    <tr>\n",
       "      <th>9</th>\n",
       "      <td>37564.0</td>\n",
       "      <td>47668.0</td>\n",
       "      <td>0.675121</td>\n",
       "      <td>2.0</td>\n",
       "    </tr>\n",
       "    <tr>\n",
       "      <th>10</th>\n",
       "      <td>3375.0</td>\n",
       "      <td>26243.0</td>\n",
       "      <td>0.685797</td>\n",
       "      <td>2.0</td>\n",
       "    </tr>\n",
       "    <tr>\n",
       "      <th>11</th>\n",
       "      <td>15722.0</td>\n",
       "      <td>30368.0</td>\n",
       "      <td>0.686356</td>\n",
       "      <td>2.0</td>\n",
       "    </tr>\n",
       "    <tr>\n",
       "      <th>12</th>\n",
       "      <td>21247.0</td>\n",
       "      <td>21575.0</td>\n",
       "      <td>0.694412</td>\n",
       "      <td>2.0</td>\n",
       "    </tr>\n",
       "    <tr>\n",
       "      <th>13</th>\n",
       "      <td>14900.0</td>\n",
       "      <td>42486.0</td>\n",
       "      <td>0.696769</td>\n",
       "      <td>2.0</td>\n",
       "    </tr>\n",
       "    <tr>\n",
       "      <th>14</th>\n",
       "      <td>30100.0</td>\n",
       "      <td>41908.0</td>\n",
       "      <td>0.699261</td>\n",
       "      <td>2.0</td>\n",
       "    </tr>\n",
       "    <tr>\n",
       "      <th>15</th>\n",
       "      <td>12040.0</td>\n",
       "      <td>13254.0</td>\n",
       "      <td>0.701134</td>\n",
       "      <td>2.0</td>\n",
       "    </tr>\n",
       "    <tr>\n",
       "      <th>16</th>\n",
       "      <td>10508.0</td>\n",
       "      <td>25434.0</td>\n",
       "      <td>0.708872</td>\n",
       "      <td>2.0</td>\n",
       "    </tr>\n",
       "    <tr>\n",
       "      <th>17</th>\n",
       "      <td>30695.0</td>\n",
       "      <td>30757.0</td>\n",
       "      <td>0.710023</td>\n",
       "      <td>2.0</td>\n",
       "    </tr>\n",
       "    <tr>\n",
       "      <th>18</th>\n",
       "      <td>31019.0</td>\n",
       "      <td>31033.0</td>\n",
       "      <td>0.712052</td>\n",
       "      <td>2.0</td>\n",
       "    </tr>\n",
       "    <tr>\n",
       "      <th>19</th>\n",
       "      <td>36264.0</td>\n",
       "      <td>37285.0</td>\n",
       "      <td>0.713130</td>\n",
       "      <td>2.0</td>\n",
       "    </tr>\n",
       "  </tbody>\n",
       "</table>\n",
       "</div>"
      ],
      "text/plain": [
       "    clusterOne  clusterTwo  distance  newClusterSize\n",
       "0      42194.0     43025.0  0.562682             2.0\n",
       "1      28350.0     37674.0  0.590866             2.0\n",
       "2      26696.0     44705.0  0.621506             2.0\n",
       "3      12634.0     32823.0  0.627762             2.0\n",
       "4      24707.0     43151.0  0.637668             2.0\n",
       "5      20465.0     24483.0  0.662557             2.0\n",
       "6        466.0     42098.0  0.664189             2.0\n",
       "7      46542.0     49961.0  0.665520             2.0\n",
       "8       2301.0      5732.0  0.671215             2.0\n",
       "9      37564.0     47668.0  0.675121             2.0\n",
       "10      3375.0     26243.0  0.685797             2.0\n",
       "11     15722.0     30368.0  0.686356             2.0\n",
       "12     21247.0     21575.0  0.694412             2.0\n",
       "13     14900.0     42486.0  0.696769             2.0\n",
       "14     30100.0     41908.0  0.699261             2.0\n",
       "15     12040.0     13254.0  0.701134             2.0\n",
       "16     10508.0     25434.0  0.708872             2.0\n",
       "17     30695.0     30757.0  0.710023             2.0\n",
       "18     31019.0     31033.0  0.712052             2.0\n",
       "19     36264.0     37285.0  0.713130             2.0"
      ]
     },
     "execution_count": 6,
     "metadata": {},
     "output_type": "execute_result"
    }
   ],
   "source": [
    "Z_dataFrame.iloc[:20]"
   ]
  },
  {
   "cell_type": "code",
   "execution_count": 7,
   "metadata": {
    "collapsed": false
   },
   "outputs": [
    {
     "data": {
      "text/html": [
       "<div>\n",
       "<style>\n",
       "    .dataframe thead tr:only-child th {\n",
       "        text-align: right;\n",
       "    }\n",
       "\n",
       "    .dataframe thead th {\n",
       "        text-align: left;\n",
       "    }\n",
       "\n",
       "    .dataframe tbody tr th {\n",
       "        vertical-align: top;\n",
       "    }\n",
       "</style>\n",
       "<table border=\"1\" class=\"dataframe\">\n",
       "  <thead>\n",
       "    <tr style=\"text-align: right;\">\n",
       "      <th></th>\n",
       "      <th>clusterOne</th>\n",
       "      <th>clusterTwo</th>\n",
       "      <th>distance</th>\n",
       "      <th>newClusterSize</th>\n",
       "    </tr>\n",
       "  </thead>\n",
       "  <tbody>\n",
       "    <tr>\n",
       "      <th>49980</th>\n",
       "      <td>99965.0</td>\n",
       "      <td>99972.0</td>\n",
       "      <td>161.106998</td>\n",
       "      <td>5197.0</td>\n",
       "    </tr>\n",
       "    <tr>\n",
       "      <th>49981</th>\n",
       "      <td>99932.0</td>\n",
       "      <td>99980.0</td>\n",
       "      <td>172.070003</td>\n",
       "      <td>6505.0</td>\n",
       "    </tr>\n",
       "    <tr>\n",
       "      <th>49982</th>\n",
       "      <td>99945.0</td>\n",
       "      <td>99960.0</td>\n",
       "      <td>182.840860</td>\n",
       "      <td>3245.0</td>\n",
       "    </tr>\n",
       "    <tr>\n",
       "      <th>49983</th>\n",
       "      <td>99964.0</td>\n",
       "      <td>99976.0</td>\n",
       "      <td>184.475761</td>\n",
       "      <td>3683.0</td>\n",
       "    </tr>\n",
       "    <tr>\n",
       "      <th>49984</th>\n",
       "      <td>99974.0</td>\n",
       "      <td>99979.0</td>\n",
       "      <td>185.027847</td>\n",
       "      <td>7744.0</td>\n",
       "    </tr>\n",
       "    <tr>\n",
       "      <th>49985</th>\n",
       "      <td>99940.0</td>\n",
       "      <td>99975.0</td>\n",
       "      <td>185.345207</td>\n",
       "      <td>5596.0</td>\n",
       "    </tr>\n",
       "    <tr>\n",
       "      <th>49986</th>\n",
       "      <td>99957.0</td>\n",
       "      <td>99967.0</td>\n",
       "      <td>211.854714</td>\n",
       "      <td>5957.0</td>\n",
       "    </tr>\n",
       "    <tr>\n",
       "      <th>49987</th>\n",
       "      <td>99938.0</td>\n",
       "      <td>99983.0</td>\n",
       "      <td>215.494857</td>\n",
       "      <td>4846.0</td>\n",
       "    </tr>\n",
       "    <tr>\n",
       "      <th>49988</th>\n",
       "      <td>99978.0</td>\n",
       "      <td>99984.0</td>\n",
       "      <td>216.760365</td>\n",
       "      <td>11072.0</td>\n",
       "    </tr>\n",
       "    <tr>\n",
       "      <th>49989</th>\n",
       "      <td>99970.0</td>\n",
       "      <td>99973.0</td>\n",
       "      <td>217.355871</td>\n",
       "      <td>4899.0</td>\n",
       "    </tr>\n",
       "    <tr>\n",
       "      <th>49990</th>\n",
       "      <td>99969.0</td>\n",
       "      <td>99986.0</td>\n",
       "      <td>225.468298</td>\n",
       "      <td>8270.0</td>\n",
       "    </tr>\n",
       "    <tr>\n",
       "      <th>49991</th>\n",
       "      <td>99981.0</td>\n",
       "      <td>99982.0</td>\n",
       "      <td>238.845135</td>\n",
       "      <td>9750.0</td>\n",
       "    </tr>\n",
       "    <tr>\n",
       "      <th>49992</th>\n",
       "      <td>99968.0</td>\n",
       "      <td>99977.0</td>\n",
       "      <td>266.146782</td>\n",
       "      <td>5567.0</td>\n",
       "    </tr>\n",
       "    <tr>\n",
       "      <th>49993</th>\n",
       "      <td>99985.0</td>\n",
       "      <td>99989.0</td>\n",
       "      <td>270.929453</td>\n",
       "      <td>10495.0</td>\n",
       "    </tr>\n",
       "    <tr>\n",
       "      <th>49994</th>\n",
       "      <td>99990.0</td>\n",
       "      <td>99991.0</td>\n",
       "      <td>346.840948</td>\n",
       "      <td>18020.0</td>\n",
       "    </tr>\n",
       "    <tr>\n",
       "      <th>49995</th>\n",
       "      <td>99988.0</td>\n",
       "      <td>99993.0</td>\n",
       "      <td>394.365194</td>\n",
       "      <td>21567.0</td>\n",
       "    </tr>\n",
       "    <tr>\n",
       "      <th>49996</th>\n",
       "      <td>99987.0</td>\n",
       "      <td>99995.0</td>\n",
       "      <td>425.142387</td>\n",
       "      <td>26413.0</td>\n",
       "    </tr>\n",
       "    <tr>\n",
       "      <th>49997</th>\n",
       "      <td>99992.0</td>\n",
       "      <td>99994.0</td>\n",
       "      <td>440.148301</td>\n",
       "      <td>23587.0</td>\n",
       "    </tr>\n",
       "    <tr>\n",
       "      <th>49998</th>\n",
       "      <td>99996.0</td>\n",
       "      <td>99997.0</td>\n",
       "      <td>494.383866</td>\n",
       "      <td>50000.0</td>\n",
       "    </tr>\n",
       "  </tbody>\n",
       "</table>\n",
       "</div>"
      ],
      "text/plain": [
       "       clusterOne  clusterTwo    distance  newClusterSize\n",
       "49980     99965.0     99972.0  161.106998          5197.0\n",
       "49981     99932.0     99980.0  172.070003          6505.0\n",
       "49982     99945.0     99960.0  182.840860          3245.0\n",
       "49983     99964.0     99976.0  184.475761          3683.0\n",
       "49984     99974.0     99979.0  185.027847          7744.0\n",
       "49985     99940.0     99975.0  185.345207          5596.0\n",
       "49986     99957.0     99967.0  211.854714          5957.0\n",
       "49987     99938.0     99983.0  215.494857          4846.0\n",
       "49988     99978.0     99984.0  216.760365         11072.0\n",
       "49989     99970.0     99973.0  217.355871          4899.0\n",
       "49990     99969.0     99986.0  225.468298          8270.0\n",
       "49991     99981.0     99982.0  238.845135          9750.0\n",
       "49992     99968.0     99977.0  266.146782          5567.0\n",
       "49993     99985.0     99989.0  270.929453         10495.0\n",
       "49994     99990.0     99991.0  346.840948         18020.0\n",
       "49995     99988.0     99993.0  394.365194         21567.0\n",
       "49996     99987.0     99995.0  425.142387         26413.0\n",
       "49997     99992.0     99994.0  440.148301         23587.0\n",
       "49998     99996.0     99997.0  494.383866         50000.0"
      ]
     },
     "execution_count": 7,
     "metadata": {},
     "output_type": "execute_result"
    }
   ],
   "source": [
    "Z_dataFrame.iloc[49980:]"
   ]
  },
  {
   "cell_type": "code",
   "execution_count": null,
   "metadata": {
    "collapsed": true
   },
   "outputs": [],
   "source": [
    "## Explanations\n",
    "#\n",
    "# 1. ClusterOne and ClusterTwo represents the two clusters (or a single observation) that are joined together at each iteration\n",
    "#\n",
    "# 2. Distance is the distance calculated by Ward (??) and Euclidean\n",
    "#\n",
    "# 3. Cluster size is the number of observations (a single data row in MNIST) in the joined cluster\n",
    "#\n",
    "# 4. What is the number under clusterOne/Two mean? e.g. 37285.0 \n",
    "# It is actually the observation/cluster number but it could be larger than 50,000 because of the new clusters produced"
   ]
  },
  {
   "cell_type": "code",
   "execution_count": null,
   "metadata": {
    "collapsed": true
   },
   "outputs": [],
   "source": [
    "## Observations\n",
    "#\n",
    "# 1. Distance monotonically increasing - meaning closest points/clusters are merged first\n",
    "# 2. Initially the size of the merged cluster is 2 - two observations are joined initially\n",
    "# 3. Towards the end the number of observations in the joined cluster increases\n",
    "# 4. In each iteraction, two clusters/observations will be merged\n",
    "# 5. There is 50000-1 iterations of merging\n",
    "# 6. The last iteration will produce a big cluster of every observations (hence 500000 items in the cluster)\n",
    "# 7. The dendrogram is hence produced"
   ]
  },
  {
   "cell_type": "code",
   "execution_count": null,
   "metadata": {
    "collapsed": true
   },
   "outputs": [],
   "source": [
    "### Now we need to decide how many clusters do we want\n",
    "### In a sense we still need to decide on the number of clusters\n",
    "### But there is a way to get the optimal number of clusters\n",
    "### See https://stackabuse.com/hierarchical-clustering-with-python-and-scikit-learn/\n",
    "\n",
    "### Though in the MNIST case it is quite difficult to draw the dendrogram ..."
   ]
  },
  {
   "cell_type": "code",
   "execution_count": 8,
   "metadata": {
    "collapsed": true
   },
   "outputs": [],
   "source": [
    "# Pick cluster number to be 20, similar to KMeans"
   ]
  },
  {
   "cell_type": "code",
   "execution_count": 21,
   "metadata": {
    "collapsed": false
   },
   "outputs": [
    {
     "name": "stdout",
     "output_type": "stream",
     "text": [
      "Number of distinct clusters:  20\n"
     ]
    }
   ],
   "source": [
    "from scipy.cluster.hierarchy import fcluster\n",
    "\n",
    "distance_threshold = 160  ## How do we decide this value?? Reverse engineering?\n",
    "clusters = fcluster(Z, distance_threshold, criterion='distance')\n",
    "pd_X_train_hierClustered = pd.DataFrame(data=clusters,index=pd_X_train_PCA.index,columns=['predicted_cluster_index'])\n",
    "\n",
    "print(\"Number of distinct clusters: \", len(pd_X_train_hierClustered['predicted_cluster_index'].unique()))"
   ]
  },
  {
   "cell_type": "code",
   "execution_count": 16,
   "metadata": {
    "collapsed": false
   },
   "outputs": [
    {
     "data": {
      "text/html": [
       "<div>\n",
       "<style>\n",
       "    .dataframe thead tr:only-child th {\n",
       "        text-align: right;\n",
       "    }\n",
       "\n",
       "    .dataframe thead th {\n",
       "        text-align: left;\n",
       "    }\n",
       "\n",
       "    .dataframe tbody tr th {\n",
       "        vertical-align: top;\n",
       "    }\n",
       "</style>\n",
       "<table border=\"1\" class=\"dataframe\">\n",
       "  <thead>\n",
       "    <tr style=\"text-align: right;\">\n",
       "      <th></th>\n",
       "      <th>cluster</th>\n",
       "    </tr>\n",
       "  </thead>\n",
       "  <tbody>\n",
       "    <tr>\n",
       "      <th>0</th>\n",
       "      <td>5</td>\n",
       "    </tr>\n",
       "    <tr>\n",
       "      <th>1</th>\n",
       "      <td>3</td>\n",
       "    </tr>\n",
       "    <tr>\n",
       "      <th>2</th>\n",
       "      <td>15</td>\n",
       "    </tr>\n",
       "    <tr>\n",
       "      <th>3</th>\n",
       "      <td>11</td>\n",
       "    </tr>\n",
       "    <tr>\n",
       "      <th>4</th>\n",
       "      <td>14</td>\n",
       "    </tr>\n",
       "  </tbody>\n",
       "</table>\n",
       "</div>"
      ],
      "text/plain": [
       "   cluster\n",
       "0        5\n",
       "1        3\n",
       "2       15\n",
       "3       11\n",
       "4       14"
      ]
     },
     "execution_count": 16,
     "metadata": {},
     "output_type": "execute_result"
    }
   ],
   "source": [
    "pd_X_train_hierClustered.head()"
   ]
  },
  {
   "cell_type": "code",
   "execution_count": 23,
   "metadata": {
    "collapsed": false
   },
   "outputs": [
    {
     "name": "stdout",
     "output_type": "stream",
     "text": [
      "predicted_cluster_index    0.76882\n",
      "dtype: float64\n"
     ]
    }
   ],
   "source": [
    "import matplotlib.pyplot as plt\n",
    "\n",
    "pd_y_train = pd.DataFrame(data=y_train, columns=['labels'])\n",
    "predictions_labeled = pd.concat([pd_X_train_hierClustered,pd_y_train], axis=1)\n",
    "\n",
    "overall_accuracy = get_overall_accuracy(predictions_labeled)\n",
    "print(overall_accuracy)"
   ]
  },
  {
   "cell_type": "markdown",
   "metadata": {},
   "source": [
    "### DBSCAN"
   ]
  },
  {
   "cell_type": "code",
   "execution_count": 25,
   "metadata": {
    "collapsed": false
   },
   "outputs": [],
   "source": [
    "from sklearn.cluster import DBSCAN\n",
    "\n",
    "eps = 3\n",
    "min_samples = 5\n",
    "leaf_size = 30\n",
    "n_jobs = 4\n",
    "\n",
    "##\n",
    "# 1. eps is the threshold within it we calculate the number of samples\n",
    "# 2. min_sample is the min number of samples to form a cluster\n",
    "# 3. What is leaf_size ??\n",
    "# 4. n_jobs >> ??\n",
    "##\n",
    "\n",
    "\n",
    "db = DBSCAN(eps=eps, min_samples=min_samples, leaf_size=leaf_size, n_jobs=n_jobs)\n",
    "\n",
    "cutoff = 99\n",
    "X_train_PCA_dbscanClustered = db.fit_predict(pd_X_train_PCA.loc[:,0:cutoff])\n",
    "pd_X_train_PCA_dbscanClustered = pd.DataFrame(data=X_train_PCA_dbscanClustered, \\\n",
    "                                              index=pd_X_train.index, columns=['predicted_cluster_index'])"
   ]
  },
  {
   "cell_type": "code",
   "execution_count": 26,
   "metadata": {
    "collapsed": true
   },
   "outputs": [],
   "source": [
    "pd_y_train = pd.DataFrame(data=y_train, columns=['labels'])\n",
    "predictions_labeled = pd.concat([pd_X_train_PCA_dbscanClustered,pd_y_train], axis=1)\n",
    "\n",
    "overall_accuracy = get_overall_accuracy(predictions_labeled)"
   ]
  },
  {
   "cell_type": "code",
   "execution_count": 27,
   "metadata": {
    "collapsed": false
   },
   "outputs": [
    {
     "name": "stdout",
     "output_type": "stream",
     "text": [
      "predicted_cluster_index    0.242\n",
      "dtype: float64\n"
     ]
    }
   ],
   "source": [
    "print(overall_accuracy)"
   ]
  },
  {
   "cell_type": "code",
   "execution_count": null,
   "metadata": {
    "collapsed": true
   },
   "outputs": [],
   "source": [
    "## Skip HDBSCAN. As DBSCAN does seem to have good performance on MNIST data"
   ]
  },
  {
   "cell_type": "code",
   "execution_count": null,
   "metadata": {
    "collapsed": true
   },
   "outputs": [],
   "source": []
  }
 ],
 "metadata": {
  "anaconda-cloud": {},
  "kernelspec": {
   "display_name": "Python [conda env:py36]",
   "language": "python",
   "name": "conda-env-py36-py"
  },
  "language_info": {
   "codemirror_mode": {
    "name": "ipython",
    "version": 3
   },
   "file_extension": ".py",
   "mimetype": "text/x-python",
   "name": "python",
   "nbconvert_exporter": "python",
   "pygments_lexer": "ipython3",
   "version": "3.6.1"
  }
 },
 "nbformat": 4,
 "nbformat_minor": 1
}
