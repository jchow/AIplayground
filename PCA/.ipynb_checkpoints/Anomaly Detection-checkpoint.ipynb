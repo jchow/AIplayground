{
 "cells": [
  {
   "cell_type": "markdown",
   "metadata": {},
   "source": [
    "## Unsupervised learning using PCA only"
   ]
  },
  {
   "cell_type": "code",
   "execution_count": null,
   "metadata": {
    "collapsed": true
   },
   "outputs": [],
   "source": [
    "## book material from https://github.com/aapatel09/handson-unsupervised-learning"
   ]
  },
  {
   "cell_type": "code",
   "execution_count": 1,
   "metadata": {
    "collapsed": true
   },
   "outputs": [],
   "source": [
    "import pandas as pd\n",
    "import numpy as np\n",
    "from sklearn import preprocessing\n",
    "from sklearn import model_selection\n",
    "\n",
    "# Preprocess the data (credit card transaction - detect fraud)\n",
    "# TODO use notebook module to re-use functions\n",
    "\n",
    "def get_train_test_data():\n",
    "    df = pd.read_csv('C:/dev/research/temp/handson-unsupervised-learning/datasets/credit_card_data/credit_card.csv',  header=0, index_col=0)\n",
    "    dataX = df.copy().drop(['Class'], axis=1)\n",
    "    dataY = df['Class'].copy()\n",
    "\n",
    "    # We need to standardize the featurs - mean 0 and std 1\n",
    "    features = dataX.columns\n",
    "    ss = preprocessing.StandardScaler()\n",
    "    dataX.loc[:, features] = ss.fit_transform(dataX[features])\n",
    "    \n",
    "    X_train, X_test, y_train, y_test = model_selection.train_test_split(dataX, dataY, test_size=0.33, random_state=2018, stratify=dataY)\n",
    "    return X_train, X_test, y_train, y_test"
   ]
  },
  {
   "cell_type": "code",
   "execution_count": 2,
   "metadata": {
    "collapsed": true
   },
   "outputs": [],
   "source": [
    "## Characteristics of credit card data\n",
    "# 1. imbalanced - over 90% normal transactions, only small percentage of fraud data\n",
    "# 2. Binary classication\n",
    "# 3. Not easy to get labels in real world, fraud pattern could change easily"
   ]
  },
  {
   "cell_type": "code",
   "execution_count": 52,
   "metadata": {
    "collapsed": false
   },
   "outputs": [],
   "source": [
    "# First use sklearn PCA to get the PCA transformed data\n",
    "#\n",
    "# 30 principal components - all of them\n",
    "\n",
    "from sklearn.decomposition import PCA\n",
    "\n",
    "n_components = 25 # Number of components to keep. All is kept if not specified.\n",
    "whiten = False\n",
    "random_state = 2018\n",
    "\n",
    "pca = PCA(n_components=n_components, whiten=whiten, random_state=random_state)\n",
    "\n",
    "# in unsupervised learning there is no label. Here the label is for performance evaluation\n",
    "# So in the real world how's performance/evaluation done?\n",
    "X_train, X_test, y_train, y_test = get_train_test_data() \n",
    "\n",
    "pd_y_train = pd.DataFrame(data=y_train)\n",
    "pd_X_train = pd.DataFrame(data=X_train)\n",
    "\n",
    "X_train_pca = pca.fit_transform(X_train)\n",
    "pd_X_train_pca = pd.DataFrame(data=X_train_pca, index=X_train.index)\n",
    "\n",
    "X_train_pca_inverse = pca.inverse_transform(X_train_pca)\n",
    "pd_X_train_pca_inverse = pd.DataFrame(data=X_train_pca_inverse, index=X_train_pca_inverse)\n"
   ]
  },
  {
   "cell_type": "code",
   "execution_count": 30,
   "metadata": {
    "collapsed": false
   },
   "outputs": [],
   "source": [
    "import matplotlib.pyplot as plt\n",
    "import seaborn as sns\n",
    "color = sns.color_palette()\n",
    "import matplotlib as mpl\n",
    "\n",
    "def scatterFirstSecondVectorPlot(x_dataFrame, y_dataFrame, title):\n",
    "    tempDF = pd.DataFrame(data=x_dataFrame.loc[:,0:1], index=x_dataFrame.index)\n",
    "    tempDF = pd.concat([tempDF, y_dataFrame], axis=1, join=\"inner\")\n",
    "    tempDF.columns = [\"First Vector\", \"Second Vector\", \"Label\"]\n",
    "    sns.lmplot(x=\"First Vector\", y=\"Second Vector\", hue=\"Label\", \\\n",
    "               data=tempDF, fit_reg=False)\n",
    "    ax = plt.gca()\n",
    "    ax.set_title(\"Separation of Observations using \"+title)"
   ]
  },
  {
   "cell_type": "code",
   "execution_count": 22,
   "metadata": {
    "collapsed": false
   },
   "outputs": [
    {
     "data": {
      "text/html": [
       "<div>\n",
       "<style>\n",
       "    .dataframe thead tr:only-child th {\n",
       "        text-align: right;\n",
       "    }\n",
       "\n",
       "    .dataframe thead th {\n",
       "        text-align: left;\n",
       "    }\n",
       "\n",
       "    .dataframe tbody tr th {\n",
       "        vertical-align: top;\n",
       "    }\n",
       "</style>\n",
       "<table border=\"1\" class=\"dataframe\">\n",
       "  <thead>\n",
       "    <tr style=\"text-align: right;\">\n",
       "      <th></th>\n",
       "      <th>0</th>\n",
       "      <th>1</th>\n",
       "      <th>2</th>\n",
       "      <th>3</th>\n",
       "      <th>4</th>\n",
       "      <th>5</th>\n",
       "      <th>6</th>\n",
       "      <th>7</th>\n",
       "      <th>8</th>\n",
       "      <th>9</th>\n",
       "      <th>...</th>\n",
       "      <th>19</th>\n",
       "      <th>20</th>\n",
       "      <th>21</th>\n",
       "      <th>22</th>\n",
       "      <th>23</th>\n",
       "      <th>24</th>\n",
       "      <th>25</th>\n",
       "      <th>26</th>\n",
       "      <th>27</th>\n",
       "      <th>28</th>\n",
       "    </tr>\n",
       "    <tr>\n",
       "      <th>Time</th>\n",
       "      <th></th>\n",
       "      <th></th>\n",
       "      <th></th>\n",
       "      <th></th>\n",
       "      <th></th>\n",
       "      <th></th>\n",
       "      <th></th>\n",
       "      <th></th>\n",
       "      <th></th>\n",
       "      <th></th>\n",
       "      <th></th>\n",
       "      <th></th>\n",
       "      <th></th>\n",
       "      <th></th>\n",
       "      <th></th>\n",
       "      <th></th>\n",
       "      <th></th>\n",
       "      <th></th>\n",
       "      <th></th>\n",
       "      <th></th>\n",
       "      <th></th>\n",
       "    </tr>\n",
       "  </thead>\n",
       "  <tbody>\n",
       "    <tr>\n",
       "      <th>84575.0</th>\n",
       "      <td>-0.508960</td>\n",
       "      <td>0.156840</td>\n",
       "      <td>-0.181014</td>\n",
       "      <td>0.231665</td>\n",
       "      <td>-0.353361</td>\n",
       "      <td>0.071622</td>\n",
       "      <td>0.686164</td>\n",
       "      <td>0.489794</td>\n",
       "      <td>-0.789595</td>\n",
       "      <td>-0.154856</td>\n",
       "      <td>...</td>\n",
       "      <td>-1.179171</td>\n",
       "      <td>0.056903</td>\n",
       "      <td>-0.364133</td>\n",
       "      <td>0.082471</td>\n",
       "      <td>-0.205081</td>\n",
       "      <td>-0.961454</td>\n",
       "      <td>-0.212225</td>\n",
       "      <td>0.949449</td>\n",
       "      <td>-0.322330</td>\n",
       "      <td>-0.081670</td>\n",
       "    </tr>\n",
       "    <tr>\n",
       "      <th>117245.0</th>\n",
       "      <td>-0.444959</td>\n",
       "      <td>-0.027516</td>\n",
       "      <td>-0.155133</td>\n",
       "      <td>0.285192</td>\n",
       "      <td>0.397519</td>\n",
       "      <td>0.553303</td>\n",
       "      <td>-0.626485</td>\n",
       "      <td>-0.684136</td>\n",
       "      <td>0.551876</td>\n",
       "      <td>1.018635</td>\n",
       "      <td>...</td>\n",
       "      <td>0.326940</td>\n",
       "      <td>-0.413090</td>\n",
       "      <td>0.751521</td>\n",
       "      <td>0.590221</td>\n",
       "      <td>-0.207454</td>\n",
       "      <td>-0.216251</td>\n",
       "      <td>-0.317084</td>\n",
       "      <td>0.606207</td>\n",
       "      <td>-0.046009</td>\n",
       "      <td>0.042515</td>\n",
       "    </tr>\n",
       "    <tr>\n",
       "      <th>148591.0</th>\n",
       "      <td>0.902806</td>\n",
       "      <td>0.236857</td>\n",
       "      <td>0.055641</td>\n",
       "      <td>0.284842</td>\n",
       "      <td>-0.241861</td>\n",
       "      <td>-0.768287</td>\n",
       "      <td>-0.733919</td>\n",
       "      <td>-0.289992</td>\n",
       "      <td>2.385034</td>\n",
       "      <td>2.416090</td>\n",
       "      <td>...</td>\n",
       "      <td>-0.401471</td>\n",
       "      <td>-0.576539</td>\n",
       "      <td>-0.519133</td>\n",
       "      <td>-1.938656</td>\n",
       "      <td>0.661339</td>\n",
       "      <td>1.203622</td>\n",
       "      <td>-1.460409</td>\n",
       "      <td>-0.460144</td>\n",
       "      <td>-0.009222</td>\n",
       "      <td>0.149067</td>\n",
       "    </tr>\n",
       "    <tr>\n",
       "      <th>89630.0</th>\n",
       "      <td>-0.413574</td>\n",
       "      <td>-0.069795</td>\n",
       "      <td>-0.164551</td>\n",
       "      <td>0.201312</td>\n",
       "      <td>0.045869</td>\n",
       "      <td>0.194804</td>\n",
       "      <td>0.244808</td>\n",
       "      <td>-0.423226</td>\n",
       "      <td>0.596021</td>\n",
       "      <td>0.404075</td>\n",
       "      <td>...</td>\n",
       "      <td>-0.529128</td>\n",
       "      <td>0.081572</td>\n",
       "      <td>0.083177</td>\n",
       "      <td>0.173427</td>\n",
       "      <td>0.106064</td>\n",
       "      <td>-0.320013</td>\n",
       "      <td>-0.199260</td>\n",
       "      <td>0.432036</td>\n",
       "      <td>-0.064142</td>\n",
       "      <td>0.053590</td>\n",
       "    </tr>\n",
       "    <tr>\n",
       "      <th>87121.0</th>\n",
       "      <td>-0.453554</td>\n",
       "      <td>0.279809</td>\n",
       "      <td>0.010142</td>\n",
       "      <td>0.470535</td>\n",
       "      <td>0.686224</td>\n",
       "      <td>0.424355</td>\n",
       "      <td>-0.465568</td>\n",
       "      <td>-0.560388</td>\n",
       "      <td>0.682929</td>\n",
       "      <td>-0.223680</td>\n",
       "      <td>...</td>\n",
       "      <td>0.948688</td>\n",
       "      <td>-0.665359</td>\n",
       "      <td>-0.337359</td>\n",
       "      <td>0.768776</td>\n",
       "      <td>-0.846248</td>\n",
       "      <td>-0.654282</td>\n",
       "      <td>0.000901</td>\n",
       "      <td>0.342179</td>\n",
       "      <td>-0.004501</td>\n",
       "      <td>0.051971</td>\n",
       "    </tr>\n",
       "  </tbody>\n",
       "</table>\n",
       "<p>5 rows × 29 columns</p>\n",
       "</div>"
      ],
      "text/plain": [
       "                0         1         2         3         4         5   \\\n",
       "Time                                                                   \n",
       "84575.0  -0.508960  0.156840 -0.181014  0.231665 -0.353361  0.071622   \n",
       "117245.0 -0.444959 -0.027516 -0.155133  0.285192  0.397519  0.553303   \n",
       "148591.0  0.902806  0.236857  0.055641  0.284842 -0.241861 -0.768287   \n",
       "89630.0  -0.413574 -0.069795 -0.164551  0.201312  0.045869  0.194804   \n",
       "87121.0  -0.453554  0.279809  0.010142  0.470535  0.686224  0.424355   \n",
       "\n",
       "                6         7         8         9     ...           19  \\\n",
       "Time                                                ...                \n",
       "84575.0   0.686164  0.489794 -0.789595 -0.154856    ...    -1.179171   \n",
       "117245.0 -0.626485 -0.684136  0.551876  1.018635    ...     0.326940   \n",
       "148591.0 -0.733919 -0.289992  2.385034  2.416090    ...    -0.401471   \n",
       "89630.0   0.244808 -0.423226  0.596021  0.404075    ...    -0.529128   \n",
       "87121.0  -0.465568 -0.560388  0.682929 -0.223680    ...     0.948688   \n",
       "\n",
       "                20        21        22        23        24        25  \\\n",
       "Time                                                                   \n",
       "84575.0   0.056903 -0.364133  0.082471 -0.205081 -0.961454 -0.212225   \n",
       "117245.0 -0.413090  0.751521  0.590221 -0.207454 -0.216251 -0.317084   \n",
       "148591.0 -0.576539 -0.519133 -1.938656  0.661339  1.203622 -1.460409   \n",
       "89630.0   0.081572  0.083177  0.173427  0.106064 -0.320013 -0.199260   \n",
       "87121.0  -0.665359 -0.337359  0.768776 -0.846248 -0.654282  0.000901   \n",
       "\n",
       "                26        27        28  \n",
       "Time                                    \n",
       "84575.0   0.949449 -0.322330 -0.081670  \n",
       "117245.0  0.606207 -0.046009  0.042515  \n",
       "148591.0 -0.460144 -0.009222  0.149067  \n",
       "89630.0   0.432036 -0.064142  0.053590  \n",
       "87121.0   0.342179 -0.004501  0.051971  \n",
       "\n",
       "[5 rows x 29 columns]"
      ]
     },
     "execution_count": 22,
     "metadata": {},
     "output_type": "execute_result"
    }
   ],
   "source": [
    "pd_X_train_pca.head()"
   ]
  },
  {
   "cell_type": "code",
   "execution_count": 50,
   "metadata": {
    "collapsed": false
   },
   "outputs": [
    {
     "data": {
      "image/png": "[encoded data removed]",
      "text/plain": [
       "<matplotlib.figure.Figure at 0x17c014c7940>"
      ]
     },
     "metadata": {},
     "output_type": "display_data"
    }
   ],
   "source": [
    "\n",
    "scatterFirstSecondVectorPlot(pd_X_train_pca, pd_y_train, \"PCA\")\n",
    "plt.show()"
   ]
  },
  {
   "cell_type": "code",
   "execution_count": 38,
   "metadata": {
    "collapsed": true
   },
   "outputs": [],
   "source": [
    "## Directly from the book, no point to replicate a plotting function"
   ]
  },
  {
   "cell_type": "code",
   "execution_count": 47,
   "metadata": {
    "collapsed": true
   },
   "outputs": [],
   "source": [
    "from sklearn.metrics import precision_recall_curve, average_precision_score\n",
    "from sklearn.metrics import roc_curve, auc, roc_auc_score\n",
    "\n",
    "def plotResults(trueLabels, anomalyScores, returnPreds = False):\n",
    "    preds = pd.concat([trueLabels, anomalyScores], axis=1)\n",
    "    preds.columns = ['trueLabel', 'anomalyScore']\n",
    "    precision, recall, thresholds = \\\n",
    "        precision_recall_curve(preds['trueLabel'],preds['anomalyScore'])\n",
    "    average_precision = \\\n",
    "        average_precision_score(preds['trueLabel'],preds['anomalyScore'])\n",
    "    \n",
    "    plt.step(recall, precision, color='k', alpha=0.7, where='post')\n",
    "    plt.fill_between(recall, precision, step='post', alpha=0.3, color='k')\n",
    "\n",
    "    plt.xlabel('Recall')\n",
    "    plt.ylabel('Precision')\n",
    "    plt.ylim([0.0, 1.05])\n",
    "    plt.xlim([0.0, 1.0])\n",
    "    \n",
    "    plt.title('Precision-Recall curve: Average Precision = \\\n",
    "    {0:0.2f}'.format(average_precision))\n",
    "\n",
    "    fpr, tpr, thresholds = roc_curve(preds['trueLabel'], \\\n",
    "                                     preds['anomalyScore'])\n",
    "    areaUnderROC = auc(fpr, tpr)\n",
    "\n",
    "    plt.figure()\n",
    "    plt.plot(fpr, tpr, color='r', lw=2, label='ROC curve')\n",
    "    plt.plot([0, 1], [0, 1], color='k', lw=2, linestyle='--')\n",
    "    plt.xlim([0.0, 1.0])\n",
    "    plt.ylim([0.0, 1.05])\n",
    "    plt.xlabel('False Positive Rate')\n",
    "    plt.ylabel('True Positive Rate')\n",
    "    plt.title('Receiver operating characteristic: \\\n",
    "    Area under the curve = {0:0.2f}'.format(areaUnderROC))\n",
    "    plt.legend(loc=\"lower right\")\n",
    "    plt.show()\n",
    "    \n",
    "    if returnPreds==True:\n",
    "        return preds"
   ]
  },
  {
   "cell_type": "code",
   "execution_count": 40,
   "metadata": {
    "collapsed": true
   },
   "outputs": [],
   "source": [
    "\n",
    "def anomalyScores(originalDF, reducedDF):\n",
    "    loss = np.sum((np.array(originalDF)-np.array(reducedDF))**2, axis=1)\n",
    "    loss = pd.Series(data=loss,index=originalDF.index)\n",
    "    loss = (loss-np.min(loss))/(np.max(loss)-np.min(loss))\n",
    "    return loss"
   ]
  },
  {
   "cell_type": "code",
   "execution_count": 53,
   "metadata": {
    "collapsed": false
   },
   "outputs": [
    {
     "data": {
      "image/png": "[encoded data removed]",
      "text/plain": [
       "<matplotlib.figure.Figure at 0x17c01c28780>"
      ]
     },
     "metadata": {},
     "output_type": "display_data"
    },
    {
     "data": {
      "image/png": "[encoded data removed]",
      "text/plain": [
       "<matplotlib.figure.Figure at 0x17c00c44a90>"
      ]
     },
     "metadata": {},
     "output_type": "display_data"
    }
   ],
   "source": [
    "anomalyScoresPCA = anomalyScores(pd_X_train, pd_X_train_pca_inverse)\n",
    "preds = plotResults(y_train, anomalyScoresPCA, True)"
   ]
  },
  {
   "cell_type": "code",
   "execution_count": null,
   "metadata": {
    "collapsed": true
   },
   "outputs": [],
   "source": [
    "### Summary ###\n",
    "\n",
    "# By using PCA along we can achieve ok result on a binary classification problem with imbalanced data\n",
    "# With or without labels"
   ]
  },
  {
   "cell_type": "code",
   "execution_count": null,
   "metadata": {
    "collapsed": true
   },
   "outputs": [],
   "source": [
    "### Outstanding questions\n",
    "\n",
    "# How to evalute performance without labelled data?\n",
    "# What types of PCA to use with different data characteristics? e.g. when to use non linear PCA (e.g. Kernerl PCA)"
   ]
  }
 ],
 "metadata": {
  "anaconda-cloud": {},
  "kernelspec": {
   "display_name": "Python [conda env:py36]",
   "language": "python",
   "name": "conda-env-py36-py"
  },
  "language_info": {
   "codemirror_mode": {
    "name": "ipython",
    "version": 3
   },
   "file_extension": ".py",
   "mimetype": "text/x-python",
   "name": "python",
   "nbconvert_exporter": "python",
   "pygments_lexer": "ipython3",
   "version": "3.6.1"
  }
 },
 "nbformat": 4,
 "nbformat_minor": 1
}
