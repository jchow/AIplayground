{
 "cells": [
  {
   "cell_type": "code",
   "execution_count": 1,
   "metadata": {
    "collapsed": true
   },
   "outputs": [],
   "source": [
    "# Import libraries\n",
    "'''Main'''\n",
    "import numpy as np\n",
    "import pandas as pd\n",
    "import os, time, re\n",
    "import pickle, gzip\n",
    "\n",
    "'''Data Viz'''\n",
    "import matplotlib.pyplot as plt\n",
    "import seaborn as sns\n",
    "color = sns.color_palette()\n",
    "import matplotlib as mpl\n",
    "\n",
    "%matplotlib inline\n",
    "\n",
    "'''Data Prep and Model Evaluation'''\n",
    "from sklearn import preprocessing as pp\n",
    "from sklearn.model_selection import train_test_split \n",
    "from sklearn.metrics import precision_recall_curve, average_precision_score\n",
    "from sklearn.metrics import roc_curve, auc, roc_auc_score\n",
    "\n",
    "'''Algorithms'''\n",
    "from sklearn.decomposition import PCA\n",
    "from sklearn.cluster import KMeans\n",
    "import fastcluster\n",
    "from scipy.cluster.hierarchy import dendrogram, cophenet, fcluster\n",
    "from scipy.spatial.distance import pdist"
   ]
  },
  {
   "cell_type": "code",
   "execution_count": 10,
   "metadata": {
    "collapsed": false
   },
   "outputs": [
    {
     "name": "stderr",
     "output_type": "stream",
     "text": [
      "C:\\Users\\JeffChow\\AppData\\Local\\conda\\conda\\envs\\py36\\lib\\site-packages\\IPython\\core\\interactiveshell.py:2717: DtypeWarning: Columns (0,47) have mixed types. Specify dtype option on import or set low_memory=False.\n",
      "  interactivity=interactivity, compiler=compiler, result=result)\n"
     ]
    }
   ],
   "source": [
    "# Load the data\n",
    "file = 'C:/dev/research/temp/handson-unsupervised-learning/datasets/LoanStats3a.csv'\n",
    "data = pd.read_csv(file)"
   ]
  },
  {
   "cell_type": "code",
   "execution_count": 11,
   "metadata": {
    "collapsed": false
   },
   "outputs": [
    {
     "data": {
      "text/plain": [
       "pandas.core.frame.DataFrame"
      ]
     },
     "execution_count": 11,
     "metadata": {},
     "output_type": "execute_result"
    }
   ],
   "source": [
    "type(data)"
   ]
  },
  {
   "cell_type": "code",
   "execution_count": 12,
   "metadata": {
    "collapsed": false
   },
   "outputs": [
    {
     "data": {
      "text/plain": [
       "Index(['id', 'member_id', 'loan_amnt', 'funded_amnt', 'funded_amnt_inv',\n",
       "       'term', 'int_rate', 'installment', 'grade', 'sub_grade',\n",
       "       ...\n",
       "       'hardship_payoff_balance_amount', 'hardship_last_payment_amount',\n",
       "       'disbursement_method', 'debt_settlement_flag',\n",
       "       'debt_settlement_flag_date', 'settlement_status', 'settlement_date',\n",
       "       'settlement_amount', 'settlement_percentage', 'settlement_term'],\n",
       "      dtype='object', length=145)"
      ]
     },
     "execution_count": 12,
     "metadata": {},
     "output_type": "execute_result"
    }
   ],
   "source": [
    "data.columns"
   ]
  },
  {
   "cell_type": "code",
   "execution_count": 13,
   "metadata": {
    "collapsed": false
   },
   "outputs": [
    {
     "data": {
      "text/plain": [
       "(42542, 145)"
      ]
     },
     "execution_count": 13,
     "metadata": {},
     "output_type": "execute_result"
    }
   ],
   "source": [
    "data.shape"
   ]
  },
  {
   "cell_type": "code",
   "execution_count": 14,
   "metadata": {
    "collapsed": true
   },
   "outputs": [],
   "source": [
    "\n",
    "# Select columns to keep\n",
    "columnsToKeep = ['loan_amnt','funded_amnt','funded_amnt_inv','term', \\\n",
    "                 'int_rate','installment','grade','sub_grade', \\\n",
    "                 'emp_length','home_ownership','annual_inc', \\\n",
    "                 'verification_status','pymnt_plan','purpose', \\\n",
    "                 'addr_state','dti','delinq_2yrs','earliest_cr_line', \\\n",
    "                 'mths_since_last_delinq','mths_since_last_record', \\\n",
    "                 'open_acc','pub_rec','revol_bal','revol_util', \\\n",
    "                 'total_acc','initial_list_status','out_prncp', \\\n",
    "                 'out_prncp_inv','total_pymnt','total_pymnt_inv', \\\n",
    "                 'total_rec_prncp','total_rec_int','total_rec_late_fee', \\\n",
    "                 'recoveries','collection_recovery_fee','last_pymnt_d', \\\n",
    "                 'last_pymnt_amnt']\n",
    "\n",
    "data = data.loc[:,columnsToKeep]"
   ]
  },
  {
   "cell_type": "code",
   "execution_count": 15,
   "metadata": {
    "collapsed": false
   },
   "outputs": [
    {
     "data": {
      "text/html": [
       "<div>\n",
       "<style>\n",
       "    .dataframe thead tr:only-child th {\n",
       "        text-align: right;\n",
       "    }\n",
       "\n",
       "    .dataframe thead th {\n",
       "        text-align: left;\n",
       "    }\n",
       "\n",
       "    .dataframe tbody tr th {\n",
       "        vertical-align: top;\n",
       "    }\n",
       "</style>\n",
       "<table border=\"1\" class=\"dataframe\">\n",
       "  <thead>\n",
       "    <tr style=\"text-align: right;\">\n",
       "      <th></th>\n",
       "      <th>loan_amnt</th>\n",
       "      <th>funded_amnt</th>\n",
       "      <th>funded_amnt_inv</th>\n",
       "      <th>term</th>\n",
       "      <th>int_rate</th>\n",
       "      <th>installment</th>\n",
       "      <th>grade</th>\n",
       "      <th>sub_grade</th>\n",
       "      <th>emp_length</th>\n",
       "      <th>home_ownership</th>\n",
       "      <th>...</th>\n",
       "      <th>out_prncp_inv</th>\n",
       "      <th>total_pymnt</th>\n",
       "      <th>total_pymnt_inv</th>\n",
       "      <th>total_rec_prncp</th>\n",
       "      <th>total_rec_int</th>\n",
       "      <th>total_rec_late_fee</th>\n",
       "      <th>recoveries</th>\n",
       "      <th>collection_recovery_fee</th>\n",
       "      <th>last_pymnt_d</th>\n",
       "      <th>last_pymnt_amnt</th>\n",
       "    </tr>\n",
       "  </thead>\n",
       "  <tbody>\n",
       "    <tr>\n",
       "      <th>0</th>\n",
       "      <td>5000.0</td>\n",
       "      <td>5000.0</td>\n",
       "      <td>4975.0</td>\n",
       "      <td>36 months</td>\n",
       "      <td>10.65%</td>\n",
       "      <td>162.87</td>\n",
       "      <td>B</td>\n",
       "      <td>B2</td>\n",
       "      <td>10+ years</td>\n",
       "      <td>RENT</td>\n",
       "      <td>...</td>\n",
       "      <td>0.0</td>\n",
       "      <td>5863.155187</td>\n",
       "      <td>5833.84</td>\n",
       "      <td>5000.00</td>\n",
       "      <td>863.16</td>\n",
       "      <td>0.00</td>\n",
       "      <td>0.0</td>\n",
       "      <td>0.00</td>\n",
       "      <td>Jan-15</td>\n",
       "      <td>171.62</td>\n",
       "    </tr>\n",
       "    <tr>\n",
       "      <th>1</th>\n",
       "      <td>2500.0</td>\n",
       "      <td>2500.0</td>\n",
       "      <td>2500.0</td>\n",
       "      <td>60 months</td>\n",
       "      <td>15.27%</td>\n",
       "      <td>59.83</td>\n",
       "      <td>C</td>\n",
       "      <td>C4</td>\n",
       "      <td>&lt; 1 year</td>\n",
       "      <td>RENT</td>\n",
       "      <td>...</td>\n",
       "      <td>0.0</td>\n",
       "      <td>1014.530000</td>\n",
       "      <td>1014.53</td>\n",
       "      <td>456.46</td>\n",
       "      <td>435.17</td>\n",
       "      <td>0.00</td>\n",
       "      <td>122.9</td>\n",
       "      <td>1.11</td>\n",
       "      <td>Apr-13</td>\n",
       "      <td>119.66</td>\n",
       "    </tr>\n",
       "    <tr>\n",
       "      <th>2</th>\n",
       "      <td>2400.0</td>\n",
       "      <td>2400.0</td>\n",
       "      <td>2400.0</td>\n",
       "      <td>36 months</td>\n",
       "      <td>15.96%</td>\n",
       "      <td>84.33</td>\n",
       "      <td>C</td>\n",
       "      <td>C5</td>\n",
       "      <td>10+ years</td>\n",
       "      <td>RENT</td>\n",
       "      <td>...</td>\n",
       "      <td>0.0</td>\n",
       "      <td>3005.666844</td>\n",
       "      <td>3005.67</td>\n",
       "      <td>2400.00</td>\n",
       "      <td>605.67</td>\n",
       "      <td>0.00</td>\n",
       "      <td>0.0</td>\n",
       "      <td>0.00</td>\n",
       "      <td>Jun-14</td>\n",
       "      <td>649.91</td>\n",
       "    </tr>\n",
       "    <tr>\n",
       "      <th>3</th>\n",
       "      <td>10000.0</td>\n",
       "      <td>10000.0</td>\n",
       "      <td>10000.0</td>\n",
       "      <td>36 months</td>\n",
       "      <td>13.49%</td>\n",
       "      <td>339.31</td>\n",
       "      <td>C</td>\n",
       "      <td>C1</td>\n",
       "      <td>10+ years</td>\n",
       "      <td>RENT</td>\n",
       "      <td>...</td>\n",
       "      <td>0.0</td>\n",
       "      <td>12231.890000</td>\n",
       "      <td>12231.89</td>\n",
       "      <td>10000.00</td>\n",
       "      <td>2214.92</td>\n",
       "      <td>16.97</td>\n",
       "      <td>0.0</td>\n",
       "      <td>0.00</td>\n",
       "      <td>Jan-15</td>\n",
       "      <td>357.48</td>\n",
       "    </tr>\n",
       "    <tr>\n",
       "      <th>4</th>\n",
       "      <td>3000.0</td>\n",
       "      <td>3000.0</td>\n",
       "      <td>3000.0</td>\n",
       "      <td>60 months</td>\n",
       "      <td>12.69%</td>\n",
       "      <td>67.79</td>\n",
       "      <td>B</td>\n",
       "      <td>B5</td>\n",
       "      <td>1 year</td>\n",
       "      <td>RENT</td>\n",
       "      <td>...</td>\n",
       "      <td>0.0</td>\n",
       "      <td>4066.908161</td>\n",
       "      <td>4066.91</td>\n",
       "      <td>3000.00</td>\n",
       "      <td>1066.91</td>\n",
       "      <td>0.00</td>\n",
       "      <td>0.0</td>\n",
       "      <td>0.00</td>\n",
       "      <td>Jan-17</td>\n",
       "      <td>67.30</td>\n",
       "    </tr>\n",
       "  </tbody>\n",
       "</table>\n",
       "<p>5 rows × 37 columns</p>\n",
       "</div>"
      ],
      "text/plain": [
       "   loan_amnt  funded_amnt  funded_amnt_inv        term int_rate  installment  \\\n",
       "0     5000.0       5000.0           4975.0   36 months   10.65%       162.87   \n",
       "1     2500.0       2500.0           2500.0   60 months   15.27%        59.83   \n",
       "2     2400.0       2400.0           2400.0   36 months   15.96%        84.33   \n",
       "3    10000.0      10000.0          10000.0   36 months   13.49%       339.31   \n",
       "4     3000.0       3000.0           3000.0   60 months   12.69%        67.79   \n",
       "\n",
       "  grade sub_grade emp_length home_ownership       ...         out_prncp_inv  \\\n",
       "0     B        B2  10+ years           RENT       ...                   0.0   \n",
       "1     C        C4   < 1 year           RENT       ...                   0.0   \n",
       "2     C        C5  10+ years           RENT       ...                   0.0   \n",
       "3     C        C1  10+ years           RENT       ...                   0.0   \n",
       "4     B        B5     1 year           RENT       ...                   0.0   \n",
       "\n",
       "    total_pymnt total_pymnt_inv total_rec_prncp total_rec_int  \\\n",
       "0   5863.155187         5833.84         5000.00        863.16   \n",
       "1   1014.530000         1014.53          456.46        435.17   \n",
       "2   3005.666844         3005.67         2400.00        605.67   \n",
       "3  12231.890000        12231.89        10000.00       2214.92   \n",
       "4   4066.908161         4066.91         3000.00       1066.91   \n",
       "\n",
       "   total_rec_late_fee  recoveries collection_recovery_fee  last_pymnt_d  \\\n",
       "0                0.00         0.0                    0.00        Jan-15   \n",
       "1                0.00       122.9                    1.11        Apr-13   \n",
       "2                0.00         0.0                    0.00        Jun-14   \n",
       "3               16.97         0.0                    0.00        Jan-15   \n",
       "4                0.00         0.0                    0.00        Jan-17   \n",
       "\n",
       "   last_pymnt_amnt  \n",
       "0           171.62  \n",
       "1           119.66  \n",
       "2           649.91  \n",
       "3           357.48  \n",
       "4            67.30  \n",
       "\n",
       "[5 rows x 37 columns]"
      ]
     },
     "execution_count": 15,
     "metadata": {},
     "output_type": "execute_result"
    }
   ],
   "source": [
    "data.head()"
   ]
  },
  {
   "cell_type": "code",
   "execution_count": 16,
   "metadata": {
    "collapsed": false
   },
   "outputs": [
    {
     "data": {
      "text/plain": [
       "loan_amnt                  float64\n",
       "funded_amnt                float64\n",
       "funded_amnt_inv            float64\n",
       "term                        object\n",
       "int_rate                    object\n",
       "installment                float64\n",
       "grade                       object\n",
       "sub_grade                   object\n",
       "emp_length                  object\n",
       "home_ownership              object\n",
       "annual_inc                 float64\n",
       "verification_status         object\n",
       "pymnt_plan                  object\n",
       "purpose                     object\n",
       "addr_state                  object\n",
       "dti                        float64\n",
       "delinq_2yrs                float64\n",
       "earliest_cr_line            object\n",
       "mths_since_last_delinq     float64\n",
       "mths_since_last_record     float64\n",
       "open_acc                   float64\n",
       "pub_rec                    float64\n",
       "revol_bal                  float64\n",
       "revol_util                  object\n",
       "total_acc                  float64\n",
       "initial_list_status         object\n",
       "out_prncp                  float64\n",
       "out_prncp_inv              float64\n",
       "total_pymnt                float64\n",
       "total_pymnt_inv            float64\n",
       "total_rec_prncp            float64\n",
       "total_rec_int              float64\n",
       "total_rec_late_fee         float64\n",
       "recoveries                 float64\n",
       "collection_recovery_fee    float64\n",
       "last_pymnt_d                object\n",
       "last_pymnt_amnt            float64\n",
       "dtype: object"
      ]
     },
     "execution_count": 16,
     "metadata": {},
     "output_type": "execute_result"
    }
   ],
   "source": [
    "data.dtypes"
   ]
  },
  {
   "cell_type": "code",
   "execution_count": 18,
   "metadata": {
    "collapsed": false
   },
   "outputs": [
    {
     "name": "stdout",
     "output_type": "stream",
     "text": [
      "         term int_rate emp_length revol_util\n",
      "0   36 months   10.65%  10+ years     83.70%\n",
      "1   60 months   15.27%   < 1 year      9.40%\n",
      "2   36 months   15.96%  10+ years     98.50%\n",
      "3   36 months   13.49%  10+ years        21%\n",
      "4   60 months   12.69%     1 year     53.90%\n",
      "5   36 months    7.90%    3 years     28.30%\n",
      "6   60 months   15.96%    8 years     85.60%\n",
      "7   36 months   18.64%    9 years     87.50%\n",
      "8   60 months   21.28%    4 years     32.60%\n",
      "9   60 months   12.69%   < 1 year     36.50%\n"
     ]
    }
   ],
   "source": [
    "c# Take a look at the non numeric features\n",
    "non_numeric_teatures = [\"term\",\"int_rate\",\"emp_length\",\"revol_util\"]\n",
    "non_numeric_data = data.loc[:, non_numeric_teatures]\n",
    "\n",
    "print(non_numeric_data.head(10))"
   ]
  },
  {
   "cell_type": "code",
   "execution_count": 19,
   "metadata": {
    "collapsed": true
   },
   "outputs": [],
   "source": [
    "# Let's remove the alphabetical part\n",
    "\n",
    "for i in non_numeric_teatures:\n",
    "    data.loc[:,i] = data.loc[:,i].apply(lambda x: re.sub(\"[^0-9]\", \"\", str(x)))\n",
    "    data.loc[:,i] = pd.to_numeric(data.loc[:,i])\n",
    "    "
   ]
  },
  {
   "cell_type": "code",
   "execution_count": 21,
   "metadata": {
    "collapsed": false
   },
   "outputs": [],
   "source": [
    "numericalFeatures = [x for x in data.columns if data[x].dtype != 'object']"
   ]
  },
  {
   "cell_type": "code",
   "execution_count": 23,
   "metadata": {
    "collapsed": false
   },
   "outputs": [
    {
     "data": {
      "text/plain": [
       "loan_amnt                      7\n",
       "funded_amnt                    7\n",
       "funded_amnt_inv                7\n",
       "term                           7\n",
       "int_rate                       7\n",
       "installment                    7\n",
       "emp_length                  1119\n",
       "annual_inc                    11\n",
       "dti                            7\n",
       "delinq_2yrs                   36\n",
       "mths_since_last_delinq     26933\n",
       "mths_since_last_record     38891\n",
       "open_acc                      36\n",
       "pub_rec                       36\n",
       "revol_bal                      7\n",
       "revol_util                    97\n",
       "total_acc                     36\n",
       "out_prncp                      7\n",
       "out_prncp_inv                  7\n",
       "total_pymnt                    7\n",
       "total_pymnt_inv                7\n",
       "total_rec_prncp                7\n",
       "total_rec_int                  7\n",
       "total_rec_late_fee             7\n",
       "recoveries                     7\n",
       "collection_recovery_fee        7\n",
       "last_pymnt_amnt                7\n",
       "dtype: int64"
      ]
     },
     "execution_count": 23,
     "metadata": {},
     "output_type": "execute_result"
    }
   ],
   "source": [
    "check_nan = np.isnan(data.loc[:,numericalFeatures]).sum()\n",
    "check_nan"
   ]
  },
  {
   "cell_type": "code",
   "execution_count": 24,
   "metadata": {
    "collapsed": true
   },
   "outputs": [],
   "source": [
    "## Imputation - follow the reference source\n",
    "\n",
    "# Impute NaNs with mean \n",
    "fillWithMean = ['loan_amnt','funded_amnt','funded_amnt_inv','term', \\\n",
    "                'int_rate','installment','emp_length','annual_inc',\\\n",
    "                'dti','open_acc','revol_bal','revol_util','total_acc',\\\n",
    "                'out_prncp','out_prncp_inv','total_pymnt', \\\n",
    "                'total_pymnt_inv','total_rec_prncp','total_rec_int', \\\n",
    "                'last_pymnt_amnt']\n",
    "\n",
    "# Impute NaNs with zero\n",
    "fillWithZero = ['delinq_2yrs','mths_since_last_delinq', \\\n",
    "                'mths_since_last_record','pub_rec','total_rec_late_fee', \\\n",
    "                'recoveries','collection_recovery_fee']\n",
    "\n",
    "# Perform imputation\n",
    "im = pp.Imputer(strategy='mean')   \n",
    "data.loc[:,fillWithMean] = im.fit_transform(data[fillWithMean])\n",
    "\n",
    "data.loc[:,fillWithZero] = data.loc[:,fillWithZero].fillna(value=0,axis=1)"
   ]
  },
  {
   "cell_type": "code",
   "execution_count": 26,
   "metadata": {
    "collapsed": false
   },
   "outputs": [
    {
     "data": {
      "text/plain": [
       "loan_amnt                  0\n",
       "funded_amnt                0\n",
       "funded_amnt_inv            0\n",
       "term                       0\n",
       "int_rate                   0\n",
       "installment                0\n",
       "emp_length                 0\n",
       "annual_inc                 0\n",
       "dti                        0\n",
       "delinq_2yrs                0\n",
       "mths_since_last_delinq     0\n",
       "mths_since_last_record     0\n",
       "open_acc                   0\n",
       "pub_rec                    0\n",
       "revol_bal                  0\n",
       "revol_util                 0\n",
       "total_acc                  0\n",
       "out_prncp                  0\n",
       "out_prncp_inv              0\n",
       "total_pymnt                0\n",
       "total_pymnt_inv            0\n",
       "total_rec_prncp            0\n",
       "total_rec_int              0\n",
       "total_rec_late_fee         0\n",
       "recoveries                 0\n",
       "collection_recovery_fee    0\n",
       "last_pymnt_amnt            0\n",
       "dtype: int64"
      ]
     },
     "execution_count": 26,
     "metadata": {},
     "output_type": "execute_result"
    }
   ],
   "source": [
    "check_nan = np.isnan(data.loc[:,numericalFeatures]).sum()\n",
    "check_nan"
   ]
  },
  {
   "cell_type": "code",
   "execution_count": 28,
   "metadata": {
    "collapsed": true
   },
   "outputs": [],
   "source": [
    "# Add additional features that are derived from the original ones - usually from business perspective\n",
    "\n",
    "data['installmentOverLoanAmnt'] = data.installment/data.loan_amnt\n",
    "data['loanAmntOverIncome'] = data.loan_amnt/data.annual_inc\n",
    "data['revol_balOverIncome'] = data.revol_bal/data.annual_inc\n",
    "data['totalPymntOverIncome'] = data.total_pymnt/data.annual_inc\n",
    "data['totalPymntInvOverIncome'] = data.total_pymnt_inv/data.annual_inc\n",
    "data['totalRecPrncpOverIncome'] = data.total_rec_prncp/data.annual_inc\n",
    "data['totalRecIncOverIncome'] = data.total_rec_int/data.annual_inc\n",
    "\n",
    "newFeatures = ['installmentOverLoanAmnt','loanAmntOverIncome', \\\n",
    "            'revol_balOverIncome','totalPymntOverIncome', \\\n",
    "           'totalPymntInvOverIncome','totalRecPrncpOverIncome', \\\n",
    "            'totalRecIncOverIncome']"
   ]
  },
  {
   "cell_type": "code",
   "execution_count": 39,
   "metadata": {
    "collapsed": false
   },
   "outputs": [],
   "source": [
    "\n",
    "# Select features for training\n",
    "finalFeatures = numericalFeatures + newFeatures\n",
    "pd_X_train = data.loc[:,finalFeatures]\n",
    "\n",
    "# Scale data\n",
    "sX = pp.StandardScaler()\n",
    "pd_X_train.loc[:,:] = sX.fit_transform(pd_X_train)"
   ]
  },
  {
   "cell_type": "code",
   "execution_count": 40,
   "metadata": {
    "collapsed": false
   },
   "outputs": [
    {
     "data": {
      "text/plain": [
       "Index(['loan_amnt', 'funded_amnt', 'funded_amnt_inv', 'term', 'int_rate',\n",
       "       'installment', 'emp_length', 'annual_inc', 'dti', 'delinq_2yrs',\n",
       "       'mths_since_last_delinq', 'mths_since_last_record', 'open_acc',\n",
       "       'pub_rec', 'revol_bal', 'revol_util', 'total_acc', 'out_prncp',\n",
       "       'out_prncp_inv', 'total_pymnt', 'total_pymnt_inv', 'total_rec_prncp',\n",
       "       'total_rec_int', 'total_rec_late_fee', 'recoveries',\n",
       "       'collection_recovery_fee', 'last_pymnt_amnt', 'installmentOverLoanAmnt',\n",
       "       'loanAmntOverIncome', 'revol_balOverIncome', 'totalPymntOverIncome',\n",
       "       'totalPymntInvOverIncome', 'totalRecPrncpOverIncome',\n",
       "       'totalRecIncOverIncome'],\n",
       "      dtype='object')"
      ]
     },
     "execution_count": 40,
     "metadata": {},
     "output_type": "execute_result"
    }
   ],
   "source": [
    "pd_X_train.columns"
   ]
  },
  {
   "cell_type": "code",
   "execution_count": 35,
   "metadata": {
    "collapsed": false
   },
   "outputs": [
    {
     "data": {
      "text/plain": [
       "array(['B', 'C', 'A', 'E', 'F', 'D', 'G', nan], dtype=object)"
      ]
     },
     "execution_count": 35,
     "metadata": {},
     "output_type": "execute_result"
    }
   ],
   "source": [
    "labels = data.grade\n",
    "labels.unique()"
   ]
  },
  {
   "cell_type": "code",
   "execution_count": 36,
   "metadata": {
    "collapsed": true
   },
   "outputs": [],
   "source": [
    "labels = labels.fillna(value='Z')"
   ]
  },
  {
   "cell_type": "code",
   "execution_count": 41,
   "metadata": {
    "collapsed": true
   },
   "outputs": [],
   "source": [
    "# Convert labels to numerical values\n",
    "lbl = pp.LabelEncoder()\n",
    "lbl.fit(list(labels.values))\n",
    "pd_y_train = pd.Series(data=lbl.transform(labels.values), name=\"grade\")"
   ]
  },
  {
   "cell_type": "code",
   "execution_count": 42,
   "metadata": {
    "collapsed": false
   },
   "outputs": [
    {
     "data": {
      "text/plain": [
       "0    1\n",
       "1    2\n",
       "2    2\n",
       "3    2\n",
       "4    1\n",
       "Name: grade, dtype: int64"
      ]
     },
     "execution_count": 42,
     "metadata": {},
     "output_type": "execute_result"
    }
   ],
   "source": [
    "pd_y_train.head()"
   ]
  },
  {
   "cell_type": "code",
   "execution_count": 47,
   "metadata": {
    "collapsed": true
   },
   "outputs": [],
   "source": [
    "def analyzeCluster(clusterDF, labelsDF):\n",
    "    countByCluster = pd.DataFrame(data=clusterDF['cluster_index'].value_counts())\n",
    "    countByCluster.reset_index(inplace=True,drop=False)\n",
    "    countByCluster.columns = ['cluster_index','clusterCount']\n",
    "        \n",
    "    preds = pd.concat([labelsDF,clusterDF], axis=1)\n",
    "    preds.columns = ['trueLabel','cluster_index']\n",
    "    \n",
    "    countByLabel = pd.DataFrame(data=preds.groupby('trueLabel').count())\n",
    "        \n",
    "    countMostFreq = pd.DataFrame(data=preds.groupby('cluster_index').agg(lambda x:x.value_counts().iloc[0]))\n",
    "    countMostFreq.reset_index(inplace=True,drop=False)\n",
    "    countMostFreq.columns = ['cluster_index','countMostFrequent']\n",
    "    \n",
    "    accuracyDF = countMostFreq.merge(countByCluster, left_on=\"cluster_index\",right_on=\"cluster_index\")\n",
    "    \n",
    "    overallAccuracy = accuracyDF.countMostFrequent.sum()/accuracyDF.clusterCount.sum()\n",
    "    \n",
    "    accuracyByLabel = accuracyDF.countMostFrequent/accuracyDF.clusterCount\n",
    "    \n",
    "    return countByCluster, countByLabel, countMostFreq, accuracyDF, overallAccuracy, accuracyByLabel"
   ]
  },
  {
   "cell_type": "markdown",
   "metadata": {},
   "source": [
    "### K-Means"
   ]
  },
  {
   "cell_type": "code",
   "execution_count": 59,
   "metadata": {
    "collapsed": true
   },
   "outputs": [],
   "source": [
    "## No PCA for pd_X_train\n",
    "from sklearn.cluster import KMeans\n",
    "\n",
    "def get_overall_accuracy(n, pd_X, pd_y, pd_inertia, pd_overallAccuracy):\n",
    "    \n",
    "    n_clusters = n\n",
    "    n_init = 10\n",
    "    max_iter = 300\n",
    "    tol = 0.0001\n",
    "    random_state = 2019\n",
    "    n_jobs = 2\n",
    "    \n",
    "    \n",
    "    kmeans = KMeans(n_clusters=n_clusters, \\\n",
    "                    n_init=n_init, \\\n",
    "                    max_iter=max_iter, \\\n",
    "                    tol=tol, \\\n",
    "                    random_state=random_state,\\\n",
    "                    n_jobs=n_jobs)\n",
    "\n",
    "    kmeans.fit(pd_X)\n",
    "    pd_inertia.loc[n_clusters] = kmeans.inertia_\n",
    "    X_train_kmeansClustered = kmeans.predict(pd_X)\n",
    "    X_train_kmeansClustered = pd.DataFrame(data= X_train_kmeansClustered, index=pd_X.index, columns=['cluster_index'])\n",
    "    \n",
    "    countByCluster_kMeans, countByLabel_kMeans, \\\n",
    "    countMostFreq_kMeans, accuracyDF_kMeans, \\\n",
    "    overallAccuracy_kMeans, accuracyByLabel_kMeans = \\\n",
    "    analyzeCluster(X_train_kmeansClustered, pd_y)\n",
    "    \n",
    "    pd_overallAccuracy.loc[n_clusters] = overallAccuracy_kMeans\n",
    "    return accuracyByLabel_kMeans"
   ]
  },
  {
   "cell_type": "code",
   "execution_count": 60,
   "metadata": {
    "collapsed": false
   },
   "outputs": [],
   "source": [
    "## Experiement with number of clusters from 10 to 32 \n",
    "\n",
    "r = range(10,40)\n",
    "\n",
    "overallAccuracy_kMeansDF = pd.DataFrame(data=[], index=r,columns=['overallAccuracy'])\n",
    "kMeans_inertia = pd.DataFrame(data=[], index=r, columns=['inertia'])\n",
    "\n",
    "for n in r:\n",
    "    accuracyByLabel_kMeans = get_overall_accuracy(n, pd_X_train, pd_y_train, kMeans_inertia, overallAccuracy_kMeansDF)\n"
   ]
  },
  {
   "cell_type": "code",
   "execution_count": 54,
   "metadata": {
    "collapsed": false
   },
   "outputs": [
    {
     "data": {
      "text/html": [
       "<div>\n",
       "<style>\n",
       "    .dataframe thead tr:only-child th {\n",
       "        text-align: right;\n",
       "    }\n",
       "\n",
       "    .dataframe thead th {\n",
       "        text-align: left;\n",
       "    }\n",
       "\n",
       "    .dataframe tbody tr th {\n",
       "        vertical-align: top;\n",
       "    }\n",
       "</style>\n",
       "<table border=\"1\" class=\"dataframe\">\n",
       "  <thead>\n",
       "    <tr style=\"text-align: right;\">\n",
       "      <th></th>\n",
       "      <th>overallAccuracy</th>\n",
       "    </tr>\n",
       "  </thead>\n",
       "  <tbody>\n",
       "    <tr>\n",
       "      <th>10</th>\n",
       "      <td>0.329345</td>\n",
       "    </tr>\n",
       "    <tr>\n",
       "      <th>11</th>\n",
       "      <td>0.330403</td>\n",
       "    </tr>\n",
       "    <tr>\n",
       "      <th>12</th>\n",
       "      <td>0.334705</td>\n",
       "    </tr>\n",
       "    <tr>\n",
       "      <th>13</th>\n",
       "      <td>0.337572</td>\n",
       "    </tr>\n",
       "    <tr>\n",
       "      <th>14</th>\n",
       "      <td>0.36813</td>\n",
       "    </tr>\n",
       "  </tbody>\n",
       "</table>\n",
       "</div>"
      ],
      "text/plain": [
       "   overallAccuracy\n",
       "10        0.329345\n",
       "11        0.330403\n",
       "12        0.334705\n",
       "13        0.337572\n",
       "14         0.36813"
      ]
     },
     "execution_count": 54,
     "metadata": {},
     "output_type": "execute_result"
    }
   ],
   "source": [
    "overallAccuracy_kMeansDF.head()"
   ]
  },
  {
   "cell_type": "code",
   "execution_count": 61,
   "metadata": {
    "collapsed": false
   },
   "outputs": [
    {
     "data": {
      "text/plain": [
       "<matplotlib.axes._subplots.AxesSubplot at 0x1e483a00fd0>"
      ]
     },
     "execution_count": 61,
     "metadata": {},
     "output_type": "execute_result"
    },
    {
     "data": {
      "image/png": "[encoded data removed]",
      "text/plain": [
       "<matplotlib.figure.Figure at 0x1e484dc56d8>"
      ]
     },
     "metadata": {},
     "output_type": "display_data"
    }
   ],
   "source": [
    "overallAccuracy_kMeansDF.plot()"
   ]
  },
  {
   "cell_type": "code",
   "execution_count": null,
   "metadata": {
    "collapsed": true
   },
   "outputs": [],
   "source": [
    "### The accuracy for individual cluster might perform better. "
   ]
  },
  {
   "cell_type": "code",
   "execution_count": 62,
   "metadata": {
    "collapsed": false
   },
   "outputs": [
    {
     "ename": "NameError",
     "evalue": "name 'accuracyByLabel_kMeans' is not defined",
     "output_type": "error",
     "traceback": [
      "\u001b[1;31m---------------------------------------------------------------------------\u001b[0m",
      "\u001b[1;31mNameError\u001b[0m                                 Traceback (most recent call last)",
      "\u001b[1;32m<ipython-input-62-aa3722a8786e>\u001b[0m in \u001b[0;36m<module>\u001b[1;34m()\u001b[0m\n\u001b[1;32m----> 1\u001b[1;33m \u001b[0maccuracyByLabel_kMeans\u001b[0m\u001b[1;33m\u001b[0m\u001b[0m\n\u001b[0m",
      "\u001b[1;31mNameError\u001b[0m: name 'accuracyByLabel_kMeans' is not defined"
     ]
    }
   ],
   "source": [
    "accuracyByLabel_kMeans"
   ]
  },
  {
   "cell_type": "markdown",
   "metadata": {},
   "source": [
    "### Hierarchical Clustering"
   ]
  },
  {
   "cell_type": "code",
   "execution_count": 63,
   "metadata": {
    "collapsed": true
   },
   "outputs": [],
   "source": [
    "import fastcluster\n",
    "from scipy.cluster.hierarchy import dendrogram\n",
    "from scipy.cluster.hierarchy import cophenet\n",
    "from scipy.spatial.distance import pdist\n",
    "\n",
    "#\n",
    "# Building the dandrogram. It seems faster than KMeans\n",
    "#\n",
    "Z = fastcluster.linkage_vector(pd_X_train, method='ward', metric='euclidean')\n",
    "\n",
    "Z_dataFrame = pd.DataFrame(data=Z,columns=['clusterOne', \\\n",
    "                'clusterTwo','distance','newClusterSize'])"
   ]
  },
  {
   "cell_type": "code",
   "execution_count": 64,
   "metadata": {
    "collapsed": false
   },
   "outputs": [
    {
     "data": {
      "text/html": [
       "<div>\n",
       "<style>\n",
       "    .dataframe thead tr:only-child th {\n",
       "        text-align: right;\n",
       "    }\n",
       "\n",
       "    .dataframe thead th {\n",
       "        text-align: left;\n",
       "    }\n",
       "\n",
       "    .dataframe tbody tr th {\n",
       "        vertical-align: top;\n",
       "    }\n",
       "</style>\n",
       "<table border=\"1\" class=\"dataframe\">\n",
       "  <thead>\n",
       "    <tr style=\"text-align: right;\">\n",
       "      <th></th>\n",
       "      <th>clusterOne</th>\n",
       "      <th>clusterTwo</th>\n",
       "      <th>distance</th>\n",
       "      <th>newClusterSize</th>\n",
       "    </tr>\n",
       "  </thead>\n",
       "  <tbody>\n",
       "    <tr>\n",
       "      <th>0</th>\n",
       "      <td>39786.0</td>\n",
       "      <td>39787.0</td>\n",
       "      <td>0.000000e+00</td>\n",
       "      <td>2.0</td>\n",
       "    </tr>\n",
       "    <tr>\n",
       "      <th>1</th>\n",
       "      <td>39788.0</td>\n",
       "      <td>42542.0</td>\n",
       "      <td>0.000000e+00</td>\n",
       "      <td>3.0</td>\n",
       "    </tr>\n",
       "    <tr>\n",
       "      <th>2</th>\n",
       "      <td>42538.0</td>\n",
       "      <td>42539.0</td>\n",
       "      <td>0.000000e+00</td>\n",
       "      <td>2.0</td>\n",
       "    </tr>\n",
       "    <tr>\n",
       "      <th>3</th>\n",
       "      <td>42540.0</td>\n",
       "      <td>42544.0</td>\n",
       "      <td>0.000000e+00</td>\n",
       "      <td>3.0</td>\n",
       "    </tr>\n",
       "    <tr>\n",
       "      <th>4</th>\n",
       "      <td>42541.0</td>\n",
       "      <td>42545.0</td>\n",
       "      <td>3.399350e-17</td>\n",
       "      <td>4.0</td>\n",
       "    </tr>\n",
       "    <tr>\n",
       "      <th>5</th>\n",
       "      <td>42543.0</td>\n",
       "      <td>42546.0</td>\n",
       "      <td>5.139334e-17</td>\n",
       "      <td>7.0</td>\n",
       "    </tr>\n",
       "    <tr>\n",
       "      <th>6</th>\n",
       "      <td>33251.0</td>\n",
       "      <td>33261.0</td>\n",
       "      <td>1.561313e-01</td>\n",
       "      <td>2.0</td>\n",
       "    </tr>\n",
       "    <tr>\n",
       "      <th>7</th>\n",
       "      <td>42512.0</td>\n",
       "      <td>42535.0</td>\n",
       "      <td>3.342654e-01</td>\n",
       "      <td>2.0</td>\n",
       "    </tr>\n",
       "    <tr>\n",
       "      <th>8</th>\n",
       "      <td>42219.0</td>\n",
       "      <td>42316.0</td>\n",
       "      <td>3.368231e-01</td>\n",
       "      <td>2.0</td>\n",
       "    </tr>\n",
       "    <tr>\n",
       "      <th>9</th>\n",
       "      <td>6112.0</td>\n",
       "      <td>21928.0</td>\n",
       "      <td>3.384368e-01</td>\n",
       "      <td>2.0</td>\n",
       "    </tr>\n",
       "  </tbody>\n",
       "</table>\n",
       "</div>"
      ],
      "text/plain": [
       "   clusterOne  clusterTwo      distance  newClusterSize\n",
       "0     39786.0     39787.0  0.000000e+00             2.0\n",
       "1     39788.0     42542.0  0.000000e+00             3.0\n",
       "2     42538.0     42539.0  0.000000e+00             2.0\n",
       "3     42540.0     42544.0  0.000000e+00             3.0\n",
       "4     42541.0     42545.0  3.399350e-17             4.0\n",
       "5     42543.0     42546.0  5.139334e-17             7.0\n",
       "6     33251.0     33261.0  1.561313e-01             2.0\n",
       "7     42512.0     42535.0  3.342654e-01             2.0\n",
       "8     42219.0     42316.0  3.368231e-01             2.0\n",
       "9      6112.0     21928.0  3.384368e-01             2.0"
      ]
     },
     "execution_count": 64,
     "metadata": {},
     "output_type": "execute_result"
    }
   ],
   "source": [
    "Z_dataFrame[:10]"
   ]
  },
  {
   "cell_type": "code",
   "execution_count": 65,
   "metadata": {
    "collapsed": false
   },
   "outputs": [
    {
     "data": {
      "text/html": [
       "<div>\n",
       "<style>\n",
       "    .dataframe thead tr:only-child th {\n",
       "        text-align: right;\n",
       "    }\n",
       "\n",
       "    .dataframe thead th {\n",
       "        text-align: left;\n",
       "    }\n",
       "\n",
       "    .dataframe tbody tr th {\n",
       "        vertical-align: top;\n",
       "    }\n",
       "</style>\n",
       "<table border=\"1\" class=\"dataframe\">\n",
       "  <thead>\n",
       "    <tr style=\"text-align: right;\">\n",
       "      <th></th>\n",
       "      <th>clusterOne</th>\n",
       "      <th>clusterTwo</th>\n",
       "      <th>distance</th>\n",
       "      <th>newClusterSize</th>\n",
       "    </tr>\n",
       "  </thead>\n",
       "  <tbody>\n",
       "    <tr>\n",
       "      <th>42521</th>\n",
       "      <td>85038.0</td>\n",
       "      <td>85043.0</td>\n",
       "      <td>132.715723</td>\n",
       "      <td>3969.0</td>\n",
       "    </tr>\n",
       "    <tr>\n",
       "      <th>42522</th>\n",
       "      <td>85051.0</td>\n",
       "      <td>85052.0</td>\n",
       "      <td>141.386569</td>\n",
       "      <td>2899.0</td>\n",
       "    </tr>\n",
       "    <tr>\n",
       "      <th>42523</th>\n",
       "      <td>85026.0</td>\n",
       "      <td>85027.0</td>\n",
       "      <td>146.976703</td>\n",
       "      <td>2351.0</td>\n",
       "    </tr>\n",
       "    <tr>\n",
       "      <th>42524</th>\n",
       "      <td>85048.0</td>\n",
       "      <td>85049.0</td>\n",
       "      <td>152.660192</td>\n",
       "      <td>5691.0</td>\n",
       "    </tr>\n",
       "    <tr>\n",
       "      <th>42525</th>\n",
       "      <td>85036.0</td>\n",
       "      <td>85059.0</td>\n",
       "      <td>153.512281</td>\n",
       "      <td>5956.0</td>\n",
       "    </tr>\n",
       "    <tr>\n",
       "      <th>42526</th>\n",
       "      <td>85033.0</td>\n",
       "      <td>85044.0</td>\n",
       "      <td>160.825959</td>\n",
       "      <td>2203.0</td>\n",
       "    </tr>\n",
       "    <tr>\n",
       "      <th>42527</th>\n",
       "      <td>85055.0</td>\n",
       "      <td>85061.0</td>\n",
       "      <td>163.701428</td>\n",
       "      <td>668.0</td>\n",
       "    </tr>\n",
       "    <tr>\n",
       "      <th>42528</th>\n",
       "      <td>85062.0</td>\n",
       "      <td>85066.0</td>\n",
       "      <td>168.199295</td>\n",
       "      <td>6897.0</td>\n",
       "    </tr>\n",
       "    <tr>\n",
       "      <th>42529</th>\n",
       "      <td>85054.0</td>\n",
       "      <td>85060.0</td>\n",
       "      <td>168.924039</td>\n",
       "      <td>9414.0</td>\n",
       "    </tr>\n",
       "    <tr>\n",
       "      <th>42530</th>\n",
       "      <td>85028.0</td>\n",
       "      <td>85064.0</td>\n",
       "      <td>185.215769</td>\n",
       "      <td>3118.0</td>\n",
       "    </tr>\n",
       "    <tr>\n",
       "      <th>42531</th>\n",
       "      <td>85067.0</td>\n",
       "      <td>85071.0</td>\n",
       "      <td>187.832588</td>\n",
       "      <td>15370.0</td>\n",
       "    </tr>\n",
       "    <tr>\n",
       "      <th>42532</th>\n",
       "      <td>85056.0</td>\n",
       "      <td>85073.0</td>\n",
       "      <td>203.212147</td>\n",
       "      <td>17995.0</td>\n",
       "    </tr>\n",
       "    <tr>\n",
       "      <th>42533</th>\n",
       "      <td>85057.0</td>\n",
       "      <td>85063.0</td>\n",
       "      <td>205.285993</td>\n",
       "      <td>9221.0</td>\n",
       "    </tr>\n",
       "    <tr>\n",
       "      <th>42534</th>\n",
       "      <td>85068.0</td>\n",
       "      <td>85072.0</td>\n",
       "      <td>207.902660</td>\n",
       "      <td>5321.0</td>\n",
       "    </tr>\n",
       "    <tr>\n",
       "      <th>42535</th>\n",
       "      <td>85069.0</td>\n",
       "      <td>85075.0</td>\n",
       "      <td>236.754581</td>\n",
       "      <td>9889.0</td>\n",
       "    </tr>\n",
       "    <tr>\n",
       "      <th>42536</th>\n",
       "      <td>85070.0</td>\n",
       "      <td>85077.0</td>\n",
       "      <td>298.587755</td>\n",
       "      <td>16786.0</td>\n",
       "    </tr>\n",
       "    <tr>\n",
       "      <th>42537</th>\n",
       "      <td>85058.0</td>\n",
       "      <td>85078.0</td>\n",
       "      <td>309.946867</td>\n",
       "      <td>16875.0</td>\n",
       "    </tr>\n",
       "    <tr>\n",
       "      <th>42538</th>\n",
       "      <td>85074.0</td>\n",
       "      <td>85079.0</td>\n",
       "      <td>375.698458</td>\n",
       "      <td>34870.0</td>\n",
       "    </tr>\n",
       "    <tr>\n",
       "      <th>42539</th>\n",
       "      <td>85065.0</td>\n",
       "      <td>85080.0</td>\n",
       "      <td>400.711547</td>\n",
       "      <td>37221.0</td>\n",
       "    </tr>\n",
       "    <tr>\n",
       "      <th>42540</th>\n",
       "      <td>85076.0</td>\n",
       "      <td>85081.0</td>\n",
       "      <td>644.047472</td>\n",
       "      <td>42542.0</td>\n",
       "    </tr>\n",
       "  </tbody>\n",
       "</table>\n",
       "</div>"
      ],
      "text/plain": [
       "       clusterOne  clusterTwo    distance  newClusterSize\n",
       "42521     85038.0     85043.0  132.715723          3969.0\n",
       "42522     85051.0     85052.0  141.386569          2899.0\n",
       "42523     85026.0     85027.0  146.976703          2351.0\n",
       "42524     85048.0     85049.0  152.660192          5691.0\n",
       "42525     85036.0     85059.0  153.512281          5956.0\n",
       "42526     85033.0     85044.0  160.825959          2203.0\n",
       "42527     85055.0     85061.0  163.701428           668.0\n",
       "42528     85062.0     85066.0  168.199295          6897.0\n",
       "42529     85054.0     85060.0  168.924039          9414.0\n",
       "42530     85028.0     85064.0  185.215769          3118.0\n",
       "42531     85067.0     85071.0  187.832588         15370.0\n",
       "42532     85056.0     85073.0  203.212147         17995.0\n",
       "42533     85057.0     85063.0  205.285993          9221.0\n",
       "42534     85068.0     85072.0  207.902660          5321.0\n",
       "42535     85069.0     85075.0  236.754581          9889.0\n",
       "42536     85070.0     85077.0  298.587755         16786.0\n",
       "42537     85058.0     85078.0  309.946867         16875.0\n",
       "42538     85074.0     85079.0  375.698458         34870.0\n",
       "42539     85065.0     85080.0  400.711547         37221.0\n",
       "42540     85076.0     85081.0  644.047472         42542.0"
      ]
     },
     "execution_count": 65,
     "metadata": {},
     "output_type": "execute_result"
    }
   ],
   "source": [
    "Z_dataFrame[42521:]"
   ]
  },
  {
   "cell_type": "code",
   "execution_count": 72,
   "metadata": {
    "collapsed": true
   },
   "outputs": [],
   "source": [
    "from scipy.cluster.hierarchy import fcluster\n",
    "\n",
    "distance_threshold = 120\n",
    "clusters = fcluster(Z, distance_threshold, criterion='distance')\n",
    "\n",
    "# The depending on the name of the column is annoying - what is a better way?\n",
    "X_train_hierClustered = pd.DataFrame(data=clusters, index=X_train.index,columns=['cluster_index'])  "
   ]
  },
  {
   "cell_type": "code",
   "execution_count": 73,
   "metadata": {
    "collapsed": false
   },
   "outputs": [
    {
     "name": "stdout",
     "output_type": "stream",
     "text": [
      "Number of distinct clusters:  25\n"
     ]
    }
   ],
   "source": [
    "print(\"Number of distinct clusters: \", len(X_train_hierClustered['cluster_index'].unique()))"
   ]
  },
  {
   "cell_type": "code",
   "execution_count": 76,
   "metadata": {
    "collapsed": false
   },
   "outputs": [],
   "source": [
    "_,_,_,_,overallAccuracy_hierClust, accuracyByLabel_hierClust = analyzeCluster(X_train_hierClustered, pd_y_train)"
   ]
  },
  {
   "cell_type": "code",
   "execution_count": 77,
   "metadata": {
    "collapsed": false
   },
   "outputs": [
    {
     "name": "stdout",
     "output_type": "stream",
     "text": [
      "Overall accuracy from hierarchical clustering:  0.3547788068261953\n"
     ]
    }
   ],
   "source": [
    "print(\"Overall accuracy from hierarchical clustering: \", overallAccuracy_hierClust)"
   ]
  },
  {
   "cell_type": "code",
   "execution_count": 78,
   "metadata": {
    "collapsed": false
   },
   "outputs": [
    {
     "name": "stdout",
     "output_type": "stream",
     "text": [
      "Accuracy by cluster for hierarchical clustering\n"
     ]
    },
    {
     "data": {
      "text/plain": [
       "0     0.304124\n",
       "1     0.219001\n",
       "2     0.228311\n",
       "3     0.379722\n",
       "4     0.248201\n",
       "5     0.314560\n",
       "6     0.263930\n",
       "7     0.277333\n",
       "8     0.269772\n",
       "9     0.335717\n",
       "10    0.330403\n",
       "11    0.408521\n",
       "12    0.744155\n",
       "13    0.502227\n",
       "14    0.202247\n",
       "15    0.254727\n",
       "16    0.241042\n",
       "17    0.317979\n",
       "18    0.308771\n",
       "19    0.250429\n",
       "20    0.500000\n",
       "21    0.289157\n",
       "22    0.339299\n",
       "23    0.393559\n",
       "24    0.340875\n",
       "dtype: float64"
      ]
     },
     "execution_count": 78,
     "metadata": {},
     "output_type": "execute_result"
    }
   ],
   "source": [
    "print(\"Accuracy by cluster for hierarchical clustering\")\n",
    "accuracyByLabel_hierClust"
   ]
  },
  {
   "cell_type": "markdown",
   "metadata": {},
   "source": [
    "### HDBSCAN"
   ]
  },
  {
   "cell_type": "code",
   "execution_count": 79,
   "metadata": {
    "collapsed": false
   },
   "outputs": [
    {
     "ename": "ModuleNotFoundError",
     "evalue": "No module named 'hdbscan'",
     "output_type": "error",
     "traceback": [
      "\u001b[1;31m---------------------------------------------------------------------------\u001b[0m",
      "\u001b[1;31mModuleNotFoundError\u001b[0m                       Traceback (most recent call last)",
      "\u001b[1;32m<ipython-input-79-7f63a201fd08>\u001b[0m in \u001b[0;36m<module>\u001b[1;34m()\u001b[0m\n\u001b[1;32m----> 1\u001b[1;33m \u001b[1;32mimport\u001b[0m \u001b[0mhdbscan\u001b[0m\u001b[1;33m\u001b[0m\u001b[0m\n\u001b[0m\u001b[0;32m      2\u001b[0m \u001b[1;33m\u001b[0m\u001b[0m\n\u001b[0;32m      3\u001b[0m \u001b[0mmin_cluster_size\u001b[0m \u001b[1;33m=\u001b[0m \u001b[1;36m20\u001b[0m \u001b[1;31m# How to decide?\u001b[0m\u001b[1;33m\u001b[0m\u001b[0m\n\u001b[0;32m      4\u001b[0m \u001b[0mmin_samples\u001b[0m \u001b[1;33m=\u001b[0m \u001b[1;36m20\u001b[0m      \u001b[1;31m# How to decide?\u001b[0m\u001b[1;33m\u001b[0m\u001b[0m\n\u001b[0;32m      5\u001b[0m \u001b[0malpha\u001b[0m \u001b[1;33m=\u001b[0m \u001b[1;36m1.0\u001b[0m           \u001b[1;31m# How to decide?\u001b[0m\u001b[1;33m\u001b[0m\u001b[0m\n",
      "\u001b[1;31mModuleNotFoundError\u001b[0m: No module named 'hdbscan'"
     ]
    }
   ],
   "source": [
    "import hdbscan\n",
    "\n",
    "min_cluster_size = 20 # How to decide?\n",
    "min_samples = 20      # How to decide?\n",
    "alpha = 1.0           # How to decide?\n",
    "cluster_selection_method = 'leaf'\n",
    "\n",
    "hdb = hdbscan.HDBSCAN(min_cluster_size=min_cluster_size, min_samples=min_samples, alpha=alpha, \\\n",
    "    cluster_selection_method=cluster_selection_method)\n",
    "\n",
    "X_train_hdbscanClustered = hdb.fit_predict(pd_X_train)\n",
    "pd_X_train_hdbscanClustered = pd.DataFrame(data= X_train_hdbscanClustered, index=X_train.index, \\\n",
    "    columns=['cluster_index'])\n",
    "\n",
    "countByCluster_hdbscan, countByLabel_hdbscan, \\\n",
    "    countMostFreq_hdbscan, accuracyDF_hdbscan, \\\n",
    "    overallAccuracy_hdbscan, accuracyByLabel_hdbscan = \\\n",
    "    analyzeCluster(pd_X_train_hdbscanClustered, pd_y_train)"
   ]
  },
  {
   "cell_type": "code",
   "execution_count": null,
   "metadata": {
    "collapsed": true
   },
   "outputs": [],
   "source": []
  },
  {
   "cell_type": "code",
   "execution_count": null,
   "metadata": {
    "collapsed": true
   },
   "outputs": [],
   "source": []
  }
 ],
 "metadata": {
  "anaconda-cloud": {},
  "kernelspec": {
   "display_name": "Python [conda env:py36]",
   "language": "python",
   "name": "conda-env-py36-py"
  },
  "language_info": {
   "codemirror_mode": {
    "name": "ipython",
    "version": 3
   },
   "file_extension": ".py",
   "mimetype": "text/x-python",
   "name": "python",
   "nbconvert_exporter": "python",
   "pygments_lexer": "ipython3",
   "version": "3.6.1"
  }
 },
 "nbformat": 4,
 "nbformat_minor": 1
}
