{
 "cells": [
  {
   "cell_type": "code",
   "execution_count": 57,
   "metadata": {
    "collapsed": false
   },
   "outputs": [],
   "source": [
    "#import sys\n",
    "#!{sys.executable} -m pip install keras"
   ]
  },
  {
   "cell_type": "code",
   "execution_count": 58,
   "metadata": {
    "collapsed": false
   },
   "outputs": [],
   "source": [
    "#!{sys.executable} -m pip install tensorflow"
   ]
  },
  {
   "cell_type": "code",
   "execution_count": 59,
   "metadata": {
    "collapsed": false
   },
   "outputs": [],
   "source": [
    "\n",
    "'''Main'''\n",
    "import numpy as np\n",
    "import pandas as pd\n",
    "import os, time, re\n",
    "import pickle, gzip\n",
    "\n",
    "'''Data Viz'''\n",
    "import matplotlib.pyplot as plt\n",
    "import seaborn as sns\n",
    "color = sns.color_palette()\n",
    "import matplotlib as mpl\n",
    "\n",
    "%matplotlib inline\n",
    "\n",
    "'''Data Prep and Model Evaluation'''\n",
    "from sklearn import preprocessing as pp\n",
    "from sklearn import model_selection \n",
    "#from sklearn.model_selection import StratifiedKFold \n",
    "from sklearn.metrics import log_loss\n",
    "from sklearn.metrics import precision_recall_curve, average_precision_score\n",
    "from sklearn.metrics import roc_curve, auc, roc_auc_score\n",
    "\n",
    "'''TensorFlow and Keras'''\n",
    "# import tensorflow as tf\n",
    "# Tensoflow is configured as backend of Keras already\n",
    "import keras\n",
    "from keras import backend as K\n",
    "from keras.models import Sequential, Model\n",
    "from keras.layers import Activation, Dense, Dropout\n",
    "from keras.layers import BatchNormalization, Input, Lambda\n",
    "from keras import regularizers\n",
    "from keras.losses import mse, binary_crossentropy"
   ]
  },
  {
   "cell_type": "code",
   "execution_count": 60,
   "metadata": {
    "collapsed": true
   },
   "outputs": [],
   "source": [
    "\n",
    "# Preprocess the data (credit card transaction - detect fraud)\n",
    "\n",
    "def get_train_test_data():\n",
    "    df = pd.read_csv('C:/dev/research/temp/handson-unsupervised-learning/datasets/credit_card_data/credit_card.csv',  header=0, index_col=0)\n",
    "    dataX = df.copy().drop(['Class'], axis=1)\n",
    "    dataY = df['Class'].copy()\n",
    "\n",
    "    # We need to standardize the featurs - mean 0 and std 1\n",
    "    features = dataX.columns\n",
    "    ss = pp.StandardScaler()\n",
    "    dataX.loc[:, features] = ss.fit_transform(dataX[features])\n",
    "    \n",
    "    X_train, X_test, y_train, y_test = model_selection.train_test_split(dataX, dataY, test_size=0.33, random_state=2018, stratify=dataY)\n",
    "    return X_train.copy(), X_test.copy(), y_train, y_test"
   ]
  },
  {
   "cell_type": "code",
   "execution_count": 61,
   "metadata": {
    "collapsed": true
   },
   "outputs": [],
   "source": [
    "## Reference https://github.com/aapatel09/handson-unsupervised-learning/blob/master/08_autoencoders.ipynb\n",
    "def anomalyScores(originalDF, reducedDF):\n",
    "    loss = np.sum((np.array(originalDF) - \\\n",
    "                   np.array(reducedDF))**2, axis=1)\n",
    "    loss = pd.Series(data=loss,index=originalDF.index)\n",
    "    loss = (loss-np.min(loss))/(np.max(loss)-np.min(loss))\n",
    "    return loss"
   ]
  },
  {
   "cell_type": "code",
   "execution_count": 62,
   "metadata": {
    "collapsed": true
   },
   "outputs": [],
   "source": [
    "## Reference https://github.com/aapatel09/handson-unsupervised-learning/blob/master/08_autoencoders.ipynb\n",
    "def plotResults(trueLabels, anomalyScores):\n",
    "    preds = pd.concat([trueLabels, anomalyScores], axis=1)\n",
    "    preds.columns = ['trueLabel', 'anomalyScore']\n",
    "    precision, recall, thresholds = \\\n",
    "        precision_recall_curve(preds['trueLabel'], \\\n",
    "                               preds['anomalyScore'])\n",
    "    average_precision = average_precision_score( \\\n",
    "                        preds['trueLabel'], preds['anomalyScore'])\n",
    "    \n",
    "    '''\n",
    "    plt.step(recall, precision, color='k', alpha=0.7, where='post')\n",
    "    plt.fill_between(recall, precision, step='post', alpha=0.3, color='k')\n",
    "\n",
    "    plt.xlabel('Recall')\n",
    "    plt.ylabel('Precision')\n",
    "    plt.ylim([0.0, 1.05])\n",
    "    plt.xlim([0.0, 1.0])\n",
    "    \n",
    "    \n",
    "    plt.title('Precision-Recall curve: Average Precision = \\\n",
    "        {0:0.2f}'.format(average_precision))\n",
    "    '''\n",
    "\n",
    "    fpr, tpr, thresholds = roc_curve(preds['trueLabel'], \\\n",
    "                                     preds['anomalyScore'])\n",
    "    areaUnderROC = auc(fpr, tpr)\n",
    "    \n",
    "    '''\n",
    "    plt.figure()\n",
    "    plt.plot(fpr, tpr, color='r', lw=2, label='ROC curve')\n",
    "    plt.plot([0, 1], [0, 1], color='k', lw=2, linestyle='--')\n",
    "    plt.xlim([0.0, 1.0])\n",
    "    plt.ylim([0.0, 1.05])\n",
    "    plt.xlabel('False Positive Rate')\n",
    "    plt.ylabel('True Positive Rate')\n",
    "    plt.title('Receiver operating characteristic: Area under the \\\n",
    "        curve = {0:0.2f}'.format(areaUnderROC))\n",
    "    plt.legend(loc=\"lower right\")\n",
    "    plt.show()\n",
    "    '''\n",
    "    return preds, average_precision, areaUnderROC"
   ]
  },
  {
   "cell_type": "code",
   "execution_count": 63,
   "metadata": {
    "collapsed": true
   },
   "outputs": [],
   "source": [
    "# Model building function\n",
    "\n",
    "def getAModel(activation='linear', input_hidden_units=29, output_hidden_units=29, input_dim=29, metrics=['accuracy']):\n",
    "    model = Sequential()\n",
    "    model.add(Dense(units=input_hidden_units, activation=activation, input_dim=input_dim))\n",
    "    model.add(Dense(units=output_hidden_units, activation=activation))\n",
    "    # output layer?\n",
    "\n",
    "    model.compile(optimizer='Adam', loss='mean_squared_error', metrics=['accuracy'])\n",
    "    return model"
   ]
  },
  {
   "cell_type": "code",
   "execution_count": 64,
   "metadata": {
    "collapsed": false
   },
   "outputs": [],
   "source": [
    "## Try with the simplest model\n",
    "\n",
    "# input_hidden_units, output_hidden_units, input_dim\n",
    "model = getAModel('linear',29,29, 29,['accuracy'])"
   ]
  },
  {
   "cell_type": "code",
   "execution_count": 65,
   "metadata": {
    "collapsed": false
   },
   "outputs": [],
   "source": [
    "X_train, X_test, y_train, y_test= get_train_test_data()"
   ]
  },
  {
   "cell_type": "code",
   "execution_count": 66,
   "metadata": {
    "collapsed": false
   },
   "outputs": [
    {
     "data": {
      "text/plain": [
       "(190820, 29)"
      ]
     },
     "execution_count": 66,
     "metadata": {},
     "output_type": "execute_result"
    }
   ],
   "source": [
    "X_train.shape"
   ]
  },
  {
   "cell_type": "code",
   "execution_count": 67,
   "metadata": {
    "collapsed": false
   },
   "outputs": [],
   "source": [
    "## Fit a model with parameters like epochs and batch size\n",
    "\n",
    "def fitAModel(model, X, y, validation_data, epochs=10, batch_size = 32, verbose=1):\n",
    "    history = model.fit(x=X,y=y, epochs=epochs, batch_size=batch_size, shuffle=True,\n",
    "                    validation_data=validation_data,verbose=verbose)\n",
    "    return history"
   ]
  },
  {
   "cell_type": "code",
   "execution_count": 68,
   "metadata": {
    "collapsed": false
   },
   "outputs": [],
   "source": [
    "epochs =10\n",
    "batch_size = 32 ## total number of rows is 190820, every 32 rows will adjust the weights\n",
    "\n",
    "history = fitAModel(model, X_train, X_train,(X_train, X_train),  epochs, batch_size, 0)\n"
   ]
  },
  {
   "cell_type": "code",
   "execution_count": 69,
   "metadata": {
    "collapsed": true
   },
   "outputs": [],
   "source": [
    "def evaluation(model, test_X, test_y):\n",
    "    predictions = model.predict(test_X, verbose=1)\n",
    "    anomalyScoresAE = anomalyScores(test_X, predictions)\n",
    "    preds, avgPrecision, roc_area = plotResults(test_y, anomalyScoresAE)\n",
    "    model.reset_states() ## why?\n",
    "    return avgPrecision, anomalyScoresAE, roc_area"
   ]
  },
  {
   "cell_type": "code",
   "execution_count": 72,
   "metadata": {
    "collapsed": false
   },
   "outputs": [],
   "source": [
    "def calculateAvgResults(model, test_x, test_y, num = 10):\n",
    "    test_precision = []\n",
    "    test_scores = []\n",
    "    test_roc_area = []\n",
    "\n",
    "    # Why do we need to get an average over 10 runs??\n",
    "    for i in range(0,num):\n",
    "        precision, score, roc_area = evaluation(model,test_x,test_y)\n",
    "\n",
    "        test_scores.append(score)\n",
    "        test_precision.append(precision)\n",
    "        test_roc_area.append(roc_area)\n",
    "\n",
    "    print('==========')\n",
    "    print(\"Mean average precision over 10 runs: \", np.mean(test_precision))\n",
    "    print(\"Coefficient of variation over 10 runs: \", np.std(test_precision)/ \\\n",
    "                                                np.mean(test_precision))\n",
    "    #print(test_precision)\n",
    "    \n",
    "    print('---------')\n",
    "    \n",
    "    print(\"Mean average anomaly scores over 10 runs: \", np.mean(test_scores))\n",
    "    print(\"Coefficient of variation over 10 runs: \", np.std(test_scores)/ \\\n",
    "                                                np.mean(test_scores))\n",
    "    #print(test_scores)\n",
    "    \n",
    "    print(\"Mean average roc area over 10 runs: \", np.mean(test_roc_area))\n",
    "    print(\"Coefficient of variation over 10 runs: \", np.std(test_roc_area)/ \\\n",
    "                                                np.mean(test_roc_area))"
   ]
  },
  {
   "cell_type": "code",
   "execution_count": 73,
   "metadata": {
    "collapsed": false
   },
   "outputs": [
    {
     "name": "stdout",
     "output_type": "stream",
     "text": [
      "93987/93987 [==============================] - 2s 18us/step\n",
      "93987/93987 [==============================] - 2s 17us/step\n",
      "93987/93987 [==============================] - 1s 15us/step\n",
      "93987/93987 [==============================] - 1s 15us/step\n",
      "93987/93987 [==============================] - 2s 19us/step\n",
      "93987/93987 [==============================] - 2s 16us/step\n",
      "93987/93987 [==============================] - 1s 15us/step\n",
      "93987/93987 [==============================] - 2s 16us/step\n",
      "93987/93987 [==============================] - 2s 17us/step\n",
      "93987/93987 [==============================] - 2s 16us/step\n",
      "==========\n",
      "Mean average precision over 10 runs:  0.5488220757674558\n",
      "Coefficient of variation over 10 runs:  0.0\n",
      "---------\n",
      "Mean average anomaly scores over 10 runs:  0.001061009928544794\n",
      "Coefficient of variation over 10 runs:  18.77428325760857\n",
      "Mean average roc area over 10 runs:  0.9523418631350064\n",
      "Coefficient of variation over 10 runs:  1.1657820238736776e-16\n"
     ]
    }
   ],
   "source": [
    "## Main flow for executions\n",
    "\n",
    "epochs =10\n",
    "batch_size = 32 ## total number of rows is 190820, every 32 rows will adjust the weights\n",
    "\n",
    "# input_hidden_units, output_hidden_units, input_dim\n",
    "model = getAModel('linear',29, 29, 29,['accuracy'])\n",
    "\n",
    "fitAModel(model, X_train, X_train,(X_train, X_train), epochs, batch_size, 0)\n",
    "calculateAvgResults(model, X_test, y_test, 10)"
   ]
  },
  {
   "cell_type": "markdown",
   "metadata": {
    "collapsed": true
   },
   "source": [
    "### Undercomplete Autoencoders - linear"
   ]
  },
  {
   "cell_type": "code",
   "execution_count": 74,
   "metadata": {
    "collapsed": false
   },
   "outputs": [
    {
     "name": "stdout",
     "output_type": "stream",
     "text": [
      "93987/93987 [==============================] - 2s 24us/step\n",
      "93987/93987 [==============================] - 2s 21us/step\n",
      "93987/93987 [==============================] - 2s 20us/step\n",
      "93987/93987 [==============================] - 2s 19us/step\n",
      "93987/93987 [==============================] - 3s 28us/step\n",
      "93987/93987 [==============================] - 2s 20us/step\n",
      "93987/93987 [==============================] - 2s 20us/step\n",
      "93987/93987 [==============================] - 2s 25us/step\n",
      "93987/93987 [==============================] - 2s 21us/step\n",
      "93987/93987 [==============================] - 3s 33us/step\n",
      "==========\n",
      "Mean average precision over 10 runs:  0.31260688752814675\n",
      "Coefficient of variation over 10 runs:  0.0\n",
      "---------\n",
      "Mean average anomaly scores over 10 runs:  0.0017948164701140131\n",
      "Coefficient of variation over 10 runs:  7.185072533749804\n",
      "Mean average roc area over 10 runs:  0.9505417558956951\n",
      "Coefficient of variation over 10 runs:  1.1679897466250643e-16\n"
     ]
    }
   ],
   "source": [
    "# Change input hidden units from 29 to 20\n",
    "# input_hidden_units, output_hidden_units, input_dim\n",
    "model = getAModel('linear',20, 29, 29,['accuracy'])\n",
    "\n",
    "fitAModel(model, X_train, X_train,(X_train, X_train), epochs, batch_size, 0)\n",
    "calculateAvgResults(model, X_test, y_test, 10)"
   ]
  },
  {
   "cell_type": "code",
   "execution_count": 75,
   "metadata": {
    "collapsed": true
   },
   "outputs": [],
   "source": [
    "##\n",
    "# Above results are not good ..."
   ]
  },
  {
   "cell_type": "code",
   "execution_count": 76,
   "metadata": {
    "collapsed": false
   },
   "outputs": [
    {
     "name": "stdout",
     "output_type": "stream",
     "text": [
      "93987/93987 [==============================] - 2s 26us/step\n",
      "93987/93987 [==============================] - 2s 21us/step\n",
      "93987/93987 [==============================] - 2s 24us/step\n",
      "93987/93987 [==============================] - 2s 21us/step\n",
      "93987/93987 [==============================] - 2s 26us/step\n",
      "93987/93987 [==============================] - 2s 21us/step\n",
      "93987/93987 [==============================] - 2s 21us/step\n",
      "93987/93987 [==============================] - 2s 24us/step\n",
      "93987/93987 [==============================] - 2s 21us/step\n",
      "93987/93987 [==============================] - 2s 20us/step\n",
      "==========\n",
      "Mean average precision over 10 runs:  0.6977205730384144\n",
      "Coefficient of variation over 10 runs:  0.0\n",
      "---------\n",
      "Mean average anomaly scores over 10 runs:  0.0005464932881718011\n",
      "Coefficient of variation over 10 runs:  30.61849531986307\n",
      "Mean average roc area over 10 runs:  0.9353208133082014\n",
      "Coefficient of variation over 10 runs:  2.3739940538654996e-16\n"
     ]
    }
   ],
   "source": [
    "# input_hidden_units, output_hidden_units, input_dim\n",
    "model = getAModel('linear',27, 29, 29,['accuracy'])\n",
    "\n",
    "fitAModel(model, X_train, X_train,(X_train, X_train), epochs, batch_size, 0)\n",
    "calculateAvgResults(model, X_test, y_test, 10)"
   ]
  },
  {
   "cell_type": "code",
   "execution_count": 77,
   "metadata": {
    "collapsed": true
   },
   "outputs": [],
   "source": [
    "###\n",
    "# by changing to 27 (number of nodes in the first layer) instead of 20 there's quite a lot of improvement"
   ]
  },
  {
   "cell_type": "markdown",
   "metadata": {
    "collapsed": true
   },
   "source": [
    "### Overcomplete Autoencoders - linear"
   ]
  },
  {
   "cell_type": "code",
   "execution_count": 78,
   "metadata": {
    "collapsed": false
   },
   "outputs": [
    {
     "name": "stdout",
     "output_type": "stream",
     "text": [
      "93987/93987 [==============================] - 2s 20us/step\n",
      "93987/93987 [==============================] - 2s 18us/step\n",
      "93987/93987 [==============================] - 2s 18us/step\n",
      "93987/93987 [==============================] - 2s 22us/step\n",
      "93987/93987 [==============================] - 2s 17us/step\n",
      "93987/93987 [==============================] - 2s 20us/step\n",
      "93987/93987 [==============================] - 2s 20us/step\n",
      "93987/93987 [==============================] - 2s 18us/step\n",
      "93987/93987 [==============================] - 2s 18us/step\n",
      "93987/93987 [==============================] - 2s 19us/step\n",
      "==========\n",
      "Mean average precision over 10 runs:  0.06061943464887889\n",
      "Coefficient of variation over 10 runs:  1.1446648989880604e-16\n",
      "---------\n",
      "Mean average anomaly scores over 10 runs:  0.00010980700174002143\n",
      "Coefficient of variation over 10 runs:  44.4914522024267\n",
      "Mean average roc area over 10 runs:  0.9441595694637706\n",
      "Coefficient of variation over 10 runs:  1.1758849462868875e-16\n"
     ]
    }
   ],
   "source": [
    "# Change input hidden units from 29 to 20\n",
    "# input_hidden_units, output_hidden_units, input_dim\n",
    "model = getAModel('linear', 32, 29, 29,['accuracy'])\n",
    "\n",
    "fitAModel(model, X_train, X_train,(X_train, X_train), epochs, batch_size, 0)\n",
    "calculateAvgResults(model, X_test, y_test, 10)"
   ]
  },
  {
   "cell_type": "code",
   "execution_count": null,
   "metadata": {
    "collapsed": true
   },
   "outputs": [],
   "source": [
    "###\n",
    "# this is even worse \n",
    "#\n",
    "###"
   ]
  },
  {
   "cell_type": "markdown",
   "metadata": {},
   "source": [
    "### Undercomplete Autoencoders - ReLu"
   ]
  },
  {
   "cell_type": "code",
   "execution_count": 79,
   "metadata": {
    "collapsed": false
   },
   "outputs": [
    {
     "name": "stdout",
     "output_type": "stream",
     "text": [
      "93987/93987 [==============================] - 3s 31us/step\n",
      "93987/93987 [==============================] - 2s 25us/step\n",
      "93987/93987 [==============================] - 2s 23us/step\n",
      "93987/93987 [==============================] - 2s 23us/step\n",
      "93987/93987 [==============================] - 2s 26us/step\n",
      "93987/93987 [==============================] - 2s 23us/step\n",
      "93987/93987 [==============================] - 2s 24us/step\n",
      "93987/93987 [==============================] - 2s 21us/step\n",
      "93987/93987 [==============================] - 2s 25us/step\n",
      "93987/93987 [==============================] - 2s 23us/step\n",
      "==========\n",
      "Mean average precision over 10 runs:  0.24286990977225026\n",
      "Coefficient of variation over 10 runs:  1.1428165655291152e-16\n",
      "---------\n",
      "Mean average anomaly scores over 10 runs:  0.0027946525229334135\n",
      "Coefficient of variation over 10 runs:  4.810012783594438\n",
      "Mean average roc area over 10 runs:  0.9462006690943541\n",
      "Coefficient of variation over 10 runs:  0.0\n"
     ]
    }
   ],
   "source": [
    "## \n",
    "# Using 27 (produces 0.69 precision with linear activation)\n",
    "# to see if ReLu can beat it\n",
    "##\n",
    "\n",
    "# input_hidden_units, output_hidden_units, input_dim\n",
    "model = getAModel('relu',27, 29, 29,['accuracy'])\n",
    "\n",
    "fitAModel(model, X_train, X_train,(X_train, X_train), epochs, batch_size, 0)\n",
    "calculateAvgResults(model, X_test, y_test, 10)"
   ]
  },
  {
   "cell_type": "code",
   "execution_count": null,
   "metadata": {
    "collapsed": true
   },
   "outputs": [],
   "source": [
    "### No good at all!!!"
   ]
  }
 ],
 "metadata": {
  "anaconda-cloud": {},
  "kernelspec": {
   "display_name": "Python [conda env:py36]",
   "language": "python",
   "name": "conda-env-py36-py"
  },
  "language_info": {
   "codemirror_mode": {
    "name": "ipython",
    "version": 3
   },
   "file_extension": ".py",
   "mimetype": "text/x-python",
   "name": "python",
   "nbconvert_exporter": "python",
   "pygments_lexer": "ipython3",
   "version": "3.6.1"
  }
 },
 "nbformat": 4,
 "nbformat_minor": 1
}
