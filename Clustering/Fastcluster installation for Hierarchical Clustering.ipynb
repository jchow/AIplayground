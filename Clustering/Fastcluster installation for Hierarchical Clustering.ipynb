{
 "cells": [
  {
   "cell_type": "code",
   "execution_count": 2,
   "metadata": {
    "collapsed": false,
    "scrolled": true
   },
   "outputs": [],
   "source": [
    "from sklearn.cluster import AgglomerativeClustering\n",
    "from scipy.cluster.hierarchy import dendrogram, cophenet, linkage\n",
    "from scipy.spatial.distance import pdist\n",
    "import matplotlib.pyplot as plt "
   ]
  },
  {
   "cell_type": "code",
   "execution_count": 3,
   "metadata": {
    "collapsed": true
   },
   "outputs": [],
   "source": [
    "import pandas as pd\n",
    "import numpy as np\n",
    "import pickle, gzip\n",
    "\n",
    "file = 'C:/dev/research/temp/handson-unsupervised-learning/datasets/mnist_data/mnist.pkl.gz'\n",
    "\n",
    "f = gzip.open(file, 'rb')\n",
    "\n",
    "train_set, validation_set, test_set = pickle.load(f, encoding='latin1')\n",
    "f.close()\n",
    "\n",
    "X_train, y_train = train_set[0], train_set[1]\n",
    "X_validation, y_validation = validation_set[0], validation_set[1]\n",
    "X_test, y_test = test_set[0], test_set[1]\n",
    "\n",
    "## In orde to do PCA, let's put them into dataframe\n",
    "\n",
    "train_index = range(0, len(X_train))\n",
    "validation_index = range(len(X_train), len(X_train)+ len(X_validation))\n",
    "test_index = range(len(X_train)+ len(X_validation), len(X_train)+ len(X_validation)+len(X_test))\n",
    "\n",
    "pd_X_train = pd.DataFrame(data=X_train, index = train_index)\n",
    "pd_X_validation = pd.DataFrame(data=X_validation, index = validation_index)\n",
    "pd_X_test = pd.DataFrame(data=X_test, index=test_index)\n",
    "\n",
    "pd_y_train = pd.Series(data=y_train, index=train_index)\n",
    "pd_y_test = pd.Series(data=y_test, index=validation_index)\n",
    "pd_y_validation = pd.Series(data=y_validation, index=test_index)"
   ]
  },
  {
   "cell_type": "code",
   "execution_count": 4,
   "metadata": {
    "collapsed": true
   },
   "outputs": [],
   "source": [
    "## PCA\n",
    "from sklearn.decomposition import PCA\n",
    "\n",
    "random_state = 2019\n",
    "n_components = 784\n",
    "whiten = False\n",
    "\n",
    "pca = PCA(n_components=n_components, random_state=random_state, whiten=whiten)\n",
    "X_train_PCA = pca.fit_transform(X_train) # strange the result of fit_transform is numpy narray\n",
    "\n",
    "pd_X_train_PCA = pd.DataFrame(data=X_train_PCA, index=train_index)"
   ]
  },
  {
   "cell_type": "code",
   "execution_count": 5,
   "metadata": {
    "collapsed": false
   },
   "outputs": [
    {
     "data": {
      "text/plain": [
       "array([[ 0.46150958, -1.24686458,  0.04637344, ..., -0.09467411,\n",
       "         0.1194689 , -0.47311177],\n",
       "       [ 3.92165161, -1.25165142,  2.33550443, ..., -0.26989187,\n",
       "         0.09211496, -0.06263042],\n",
       "       [-0.20371095,  1.54788339, -0.98039996, ...,  0.19108152,\n",
       "         0.31815197,  0.06195305],\n",
       "       ...,\n",
       "       [-1.42506117, -1.9578559 , -2.55120631, ..., -0.07179796,\n",
       "         0.13484035, -0.23588179],\n",
       "       [-1.50742742,  1.0253139 ,  0.10780843, ...,  0.41490173,\n",
       "        -0.06303182,  0.39789409],\n",
       "       [-1.39639629, -0.64648271, -2.57306665, ...,  0.30576564,\n",
       "        -0.07278058,  0.20060242]])"
      ]
     },
     "execution_count": 5,
     "metadata": {},
     "output_type": "execute_result"
    }
   ],
   "source": [
    "x_pca = pd_X_train_PCA.loc[:,0:99].values\n",
    "type(x_pca)\n",
    "x_pca"
   ]
  },
  {
   "cell_type": "code",
   "execution_count": 6,
   "metadata": {
    "collapsed": false
   },
   "outputs": [
    {
     "data": {
      "text/plain": [
       "<matplotlib.text.Text at 0x1cd9b428898>"
      ]
     },
     "execution_count": 6,
     "metadata": {},
     "output_type": "execute_result"
    }
   ],
   "source": [
    "plt.figure(figsize=(10, 7))  \n",
    "plt.title(\"MNIST Dendograms\") \n",
    "\n",
    "### the following is going to hang the machine!!!\n",
    "# dend = dendrogram(linkage(x_pca, method='ward'))  \n",
    "\n",
    "## Let see if we can just use sklearn Agglomerative Clustering directly, with a guess of the number of clusters.\n",
    "# Again it will just hang your machine ... \n",
    "#\n",
    "# DO NOT RUN THE FOLLOWING IN YOUR PC!!!\n",
    "# cluster = AgglomerativeClustering(n_clusters=10, affinity='euclidean', linkage='ward')  \n",
    "# cluster.fit_predict(x_pca) "
   ]
  },
  {
   "cell_type": "code",
   "execution_count": null,
   "metadata": {
    "collapsed": true
   },
   "outputs": [],
   "source": [
    "## So we need fasterCluster instead of the one from sklearn for Hierarchical Clustering\n",
    "## "
   ]
  },
  {
   "cell_type": "code",
   "execution_count": 3,
   "metadata": {
    "collapsed": false
   },
   "outputs": [
    {
     "name": "stdout",
     "output_type": "stream",
     "text": [
      "Collecting fastcluster\n",
      "  Downloading https://files.pythonhosted.org/packages/90/8c/41ad4e0cfcf18102d107c5ea2b373480fa42f1d8bb4151617916e407b9f7/fastcluster-1.1.25-cp36-cp36m-win_amd64.whl\n",
      "Requirement already satisfied: numpy>=1.9 in c:\\users\\jeffchow\\appdata\\local\\conda\\conda\\envs\\py36\\lib\\site-packages (from fastcluster)\n",
      "Installing collected packages: fastcluster\n",
      "Successfully installed fastcluster-1.1.25\n"
     ]
    },
    {
     "name": "stderr",
     "output_type": "stream",
     "text": [
      "  Cache entry deserialization failed, entry ignored\n",
      "You are using pip version 9.0.1, however version 19.0.3 is available.\n",
      "You should consider upgrading via the 'python -m pip install --upgrade pip' command.\n"
     ]
    }
   ],
   "source": [
    "# Install a pip package in the current Jupyter kernel\n",
    "# import sys\n",
    "# !{sys.executable} -m pip install fastcluster"
   ]
  },
  {
   "cell_type": "code",
   "execution_count": 4,
   "metadata": {
    "collapsed": false
   },
   "outputs": [
    {
     "name": "stdout",
     "output_type": "stream",
     "text": [
      "Collecting pip\n",
      "  Downloading https://files.pythonhosted.org/packages/d8/f3/413bab4ff08e1fc4828dfc59996d721917df8e8583ea85385d51125dceff/pip-19.0.3-py2.py3-none-any.whl (1.4MB)\n",
      "Installing collected packages: pip\n",
      "  Found existing installation: pip 9.0.1\n",
      "    Uninstalling pip-9.0.1:\n",
      "      Successfully uninstalled pip-9.0.1\n",
      "Successfully installed pip-19.0.3\n"
     ]
    },
    {
     "name": "stderr",
     "output_type": "stream",
     "text": [
      "Cache entry deserialization failed, entry ignored\n"
     ]
    }
   ],
   "source": [
    "# !{sys.executable} -m pip install --upgrade pip"
   ]
  },
  {
   "cell_type": "code",
   "execution_count": 7,
   "metadata": {
    "collapsed": false
   },
   "outputs": [
    {
     "name": "stdout",
     "output_type": "stream",
     "text": [
      "Requirement already up-to-date: numpy in c:\\users\\jeffchow\\appdata\\local\\conda\\conda\\envs\\py36\\lib\\site-packages (1.16.2)\n"
     ]
    }
   ],
   "source": [
    "# !{sys.executable} -m pip install numpy --upgrade --user "
   ]
  },
  {
   "cell_type": "markdown",
   "metadata": {
    "collapsed": true
   },
   "source": [
    "### Using FastCluster for Hierarcial Clustering"
   ]
  },
  {
   "cell_type": "code",
   "execution_count": 1,
   "metadata": {
    "collapsed": false
   },
   "outputs": [],
   "source": [
    "import fastcluster"
   ]
  },
  {
   "cell_type": "code",
   "execution_count": null,
   "metadata": {
    "collapsed": true
   },
   "outputs": [],
   "source": [
    "# Now fastcluster is ready to use! Please refer to the main Clustering Notebook for an example"
   ]
  }
 ],
 "metadata": {
  "anaconda-cloud": {},
  "kernelspec": {
   "display_name": "Python [conda env:py36]",
   "language": "python",
   "name": "conda-env-py36-py"
  },
  "language_info": {
   "codemirror_mode": {
    "name": "ipython",
    "version": 3
   },
   "file_extension": ".py",
   "mimetype": "text/x-python",
   "name": "python",
   "nbconvert_exporter": "python",
   "pygments_lexer": "ipython3",
   "version": "3.6.1"
  }
 },
 "nbformat": 4,
 "nbformat_minor": 1
}
